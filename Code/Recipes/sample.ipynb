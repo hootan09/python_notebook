{
 "cells": [
  {
   "cell_type": "code",
   "execution_count": 30,
   "id": "9e454c6f",
   "metadata": {},
   "outputs": [
    {
     "name": "stdout",
     "output_type": "stream",
     "text": [
      "['recipes.json', 'recipes4000.json', 'recipes_collection.json']\n"
     ]
    }
   ],
   "source": [
    "import numpy as np\n",
    "import pandas as pd\n",
    "import matplotlib.pyplot as plt\n",
    "%matplotlib inline\n",
    "\n",
    "import os\n",
    "print(os.listdir(\"./input\"))"
   ]
  },
  {
   "cell_type": "code",
   "execution_count": 31,
   "id": "5ea049d2",
   "metadata": {},
   "outputs": [],
   "source": [
    "df = pd.read_json(\"./input/recipes.json\")"
   ]
  },
  {
   "cell_type": "code",
   "execution_count": 32,
   "id": "419fbb24",
   "metadata": {
    "scrolled": false
   },
   "outputs": [
    {
     "data": {
      "text/html": [
       "<div>\n",
       "<style scoped>\n",
       "    .dataframe tbody tr th:only-of-type {\n",
       "        vertical-align: middle;\n",
       "    }\n",
       "\n",
       "    .dataframe tbody tr th {\n",
       "        vertical-align: top;\n",
       "    }\n",
       "\n",
       "    .dataframe thead th {\n",
       "        text-align: right;\n",
       "    }\n",
       "</style>\n",
       "<table border=\"1\" class=\"dataframe\">\n",
       "  <thead>\n",
       "    <tr style=\"text-align: right;\">\n",
       "      <th></th>\n",
       "      <th>Url</th>\n",
       "      <th>Instructions</th>\n",
       "      <th>Ingredients</th>\n",
       "      <th>Day</th>\n",
       "      <th>Name</th>\n",
       "      <th>Year</th>\n",
       "      <th>Month</th>\n",
       "      <th>Weekday</th>\n",
       "    </tr>\n",
       "  </thead>\n",
       "  <tbody>\n",
       "    <tr>\n",
       "      <th>0</th>\n",
       "      <td>https://www.chefkoch.de/rezepte/185441079701305/</td>\n",
       "      <td>Die Eier hart kochen. Dann pellen und mit eine...</td>\n",
       "      <td>[600 g Hackfleisch, halb und halb, 800 g Sauer...</td>\n",
       "      <td>1</td>\n",
       "      <td>Gebratener Hasenrücken</td>\n",
       "      <td>2009</td>\n",
       "      <td>January</td>\n",
       "      <td>Thursday</td>\n",
       "    </tr>\n",
       "    <tr>\n",
       "      <th>1</th>\n",
       "      <td>https://www.chefkoch.de/rezepte/2718181424631245/</td>\n",
       "      <td>Vorab folgende Bemerkung: Alle Mengen sind Cir...</td>\n",
       "      <td>[1 kg Strauchtomate(n), 1 Gemüsezwiebel(n), 1 ...</td>\n",
       "      <td>1</td>\n",
       "      <td>Pilz Stroganoff</td>\n",
       "      <td>2017</td>\n",
       "      <td>July</td>\n",
       "      <td>Saturday</td>\n",
       "    </tr>\n",
       "    <tr>\n",
       "      <th>2</th>\n",
       "      <td>https://www.chefkoch.de/rezepte/46341015661368/</td>\n",
       "      <td>Die Kirschen abtropfen lassen, dabei den Saft ...</td>\n",
       "      <td>[1 Glas Kirsche(n), 1 Pck. Vanillepuddingpulve...</td>\n",
       "      <td>1</td>\n",
       "      <td>Kaninchen a la Gioff</td>\n",
       "      <td>2007</td>\n",
       "      <td>January</td>\n",
       "      <td>Monday</td>\n",
       "    </tr>\n",
       "    <tr>\n",
       "      <th>3</th>\n",
       "      <td>https://www.chefkoch.de/rezepte/51051018014178/</td>\n",
       "      <td>Den Spargel säubern, die holzigen Enden abschn...</td>\n",
       "      <td>[500 g Spargel, grüner, 300 ml Brühe oder Fond...</td>\n",
       "      <td>1</td>\n",
       "      <td>Spanisches Knoblauch-Kaninchen</td>\n",
       "      <td>2013</td>\n",
       "      <td>April</td>\n",
       "      <td>Monday</td>\n",
       "    </tr>\n",
       "    <tr>\n",
       "      <th>4</th>\n",
       "      <td>https://www.chefkoch.de/rezepte/1555771262860408/</td>\n",
       "      <td>Kohlrabi schälen und klein würfeln. Mit der Br...</td>\n",
       "      <td>[250 g Kohlrabi, 150 ml Gemüsebrühe, 150 ml Mi...</td>\n",
       "      <td>1</td>\n",
       "      <td>Gnocchi - Hack - Pfanne mit Basilikum</td>\n",
       "      <td>2017</td>\n",
       "      <td>August</td>\n",
       "      <td>Tuesday</td>\n",
       "    </tr>\n",
       "  </tbody>\n",
       "</table>\n",
       "</div>"
      ],
      "text/plain": [
       "                                                 Url  \\\n",
       "0   https://www.chefkoch.de/rezepte/185441079701305/   \n",
       "1  https://www.chefkoch.de/rezepte/2718181424631245/   \n",
       "2    https://www.chefkoch.de/rezepte/46341015661368/   \n",
       "3    https://www.chefkoch.de/rezepte/51051018014178/   \n",
       "4  https://www.chefkoch.de/rezepte/1555771262860408/   \n",
       "\n",
       "                                        Instructions  \\\n",
       "0  Die Eier hart kochen. Dann pellen und mit eine...   \n",
       "1  Vorab folgende Bemerkung: Alle Mengen sind Cir...   \n",
       "2  Die Kirschen abtropfen lassen, dabei den Saft ...   \n",
       "3  Den Spargel säubern, die holzigen Enden abschn...   \n",
       "4  Kohlrabi schälen und klein würfeln. Mit der Br...   \n",
       "\n",
       "                                         Ingredients  Day  \\\n",
       "0  [600 g Hackfleisch, halb und halb, 800 g Sauer...    1   \n",
       "1  [1 kg Strauchtomate(n), 1 Gemüsezwiebel(n), 1 ...    1   \n",
       "2  [1 Glas Kirsche(n), 1 Pck. Vanillepuddingpulve...    1   \n",
       "3  [500 g Spargel, grüner, 300 ml Brühe oder Fond...    1   \n",
       "4  [250 g Kohlrabi, 150 ml Gemüsebrühe, 150 ml Mi...    1   \n",
       "\n",
       "                                    Name  Year    Month   Weekday  \n",
       "0                 Gebratener Hasenrücken  2009  January  Thursday  \n",
       "1                        Pilz Stroganoff  2017     July  Saturday  \n",
       "2                   Kaninchen a la Gioff  2007  January    Monday  \n",
       "3         Spanisches Knoblauch-Kaninchen  2013    April    Monday  \n",
       "4  Gnocchi - Hack - Pfanne mit Basilikum  2017   August   Tuesday  "
      ]
     },
     "execution_count": 32,
     "metadata": {},
     "output_type": "execute_result"
    }
   ],
   "source": [
    "df.head(5)"
   ]
  },
  {
   "cell_type": "code",
   "execution_count": 33,
   "id": "e37b7d48",
   "metadata": {},
   "outputs": [
    {
     "name": "stdout",
     "output_type": "stream",
     "text": [
      "Number of Duplicated Rows:  192\n"
     ]
    },
    {
     "data": {
      "text/html": [
       "<div>\n",
       "<style scoped>\n",
       "    .dataframe tbody tr th:only-of-type {\n",
       "        vertical-align: middle;\n",
       "    }\n",
       "\n",
       "    .dataframe tbody tr th {\n",
       "        vertical-align: top;\n",
       "    }\n",
       "\n",
       "    .dataframe thead th {\n",
       "        text-align: right;\n",
       "    }\n",
       "</style>\n",
       "<table border=\"1\" class=\"dataframe\">\n",
       "  <thead>\n",
       "    <tr style=\"text-align: right;\">\n",
       "      <th></th>\n",
       "      <th>Url</th>\n",
       "      <th>Instructions</th>\n",
       "      <th>Ingredients</th>\n",
       "      <th>Day</th>\n",
       "      <th>Name</th>\n",
       "      <th>Year</th>\n",
       "      <th>Month</th>\n",
       "      <th>Weekday</th>\n",
       "    </tr>\n",
       "  </thead>\n",
       "  <tbody>\n",
       "    <tr>\n",
       "      <th>0</th>\n",
       "      <td>https://www.chefkoch.de/rezepte/185441079701305/</td>\n",
       "      <td>Die Eier hart kochen. Dann pellen und mit eine...</td>\n",
       "      <td>[600 g Hackfleisch, halb und halb, 800 g Sauer...</td>\n",
       "      <td>1</td>\n",
       "      <td>Gebratener Hasenrücken</td>\n",
       "      <td>2009</td>\n",
       "      <td>January</td>\n",
       "      <td>Thursday</td>\n",
       "    </tr>\n",
       "    <tr>\n",
       "      <th>1</th>\n",
       "      <td>https://www.chefkoch.de/rezepte/2718181424631245/</td>\n",
       "      <td>Vorab folgende Bemerkung: Alle Mengen sind Cir...</td>\n",
       "      <td>[1 kg Strauchtomate(n), 1 Gemüsezwiebel(n), 1 ...</td>\n",
       "      <td>1</td>\n",
       "      <td>Pilz Stroganoff</td>\n",
       "      <td>2017</td>\n",
       "      <td>July</td>\n",
       "      <td>Saturday</td>\n",
       "    </tr>\n",
       "    <tr>\n",
       "      <th>2</th>\n",
       "      <td>https://www.chefkoch.de/rezepte/46341015661368/</td>\n",
       "      <td>Die Kirschen abtropfen lassen, dabei den Saft ...</td>\n",
       "      <td>[1 Glas Kirsche(n), 1 Pck. Vanillepuddingpulve...</td>\n",
       "      <td>1</td>\n",
       "      <td>Kaninchen a la Gioff</td>\n",
       "      <td>2007</td>\n",
       "      <td>January</td>\n",
       "      <td>Monday</td>\n",
       "    </tr>\n",
       "    <tr>\n",
       "      <th>3</th>\n",
       "      <td>https://www.chefkoch.de/rezepte/51051018014178/</td>\n",
       "      <td>Den Spargel säubern, die holzigen Enden abschn...</td>\n",
       "      <td>[500 g Spargel, grüner, 300 ml Brühe oder Fond...</td>\n",
       "      <td>1</td>\n",
       "      <td>Spanisches Knoblauch-Kaninchen</td>\n",
       "      <td>2013</td>\n",
       "      <td>April</td>\n",
       "      <td>Monday</td>\n",
       "    </tr>\n",
       "    <tr>\n",
       "      <th>4</th>\n",
       "      <td>https://www.chefkoch.de/rezepte/1555771262860408/</td>\n",
       "      <td>Kohlrabi schälen und klein würfeln. Mit der Br...</td>\n",
       "      <td>[250 g Kohlrabi, 150 ml Gemüsebrühe, 150 ml Mi...</td>\n",
       "      <td>1</td>\n",
       "      <td>Gnocchi - Hack - Pfanne mit Basilikum</td>\n",
       "      <td>2017</td>\n",
       "      <td>August</td>\n",
       "      <td>Tuesday</td>\n",
       "    </tr>\n",
       "  </tbody>\n",
       "</table>\n",
       "</div>"
      ],
      "text/plain": [
       "                                                 Url  \\\n",
       "0   https://www.chefkoch.de/rezepte/185441079701305/   \n",
       "1  https://www.chefkoch.de/rezepte/2718181424631245/   \n",
       "2    https://www.chefkoch.de/rezepte/46341015661368/   \n",
       "3    https://www.chefkoch.de/rezepte/51051018014178/   \n",
       "4  https://www.chefkoch.de/rezepte/1555771262860408/   \n",
       "\n",
       "                                        Instructions  \\\n",
       "0  Die Eier hart kochen. Dann pellen und mit eine...   \n",
       "1  Vorab folgende Bemerkung: Alle Mengen sind Cir...   \n",
       "2  Die Kirschen abtropfen lassen, dabei den Saft ...   \n",
       "3  Den Spargel säubern, die holzigen Enden abschn...   \n",
       "4  Kohlrabi schälen und klein würfeln. Mit der Br...   \n",
       "\n",
       "                                         Ingredients  Day  \\\n",
       "0  [600 g Hackfleisch, halb und halb, 800 g Sauer...    1   \n",
       "1  [1 kg Strauchtomate(n), 1 Gemüsezwiebel(n), 1 ...    1   \n",
       "2  [1 Glas Kirsche(n), 1 Pck. Vanillepuddingpulve...    1   \n",
       "3  [500 g Spargel, grüner, 300 ml Brühe oder Fond...    1   \n",
       "4  [250 g Kohlrabi, 150 ml Gemüsebrühe, 150 ml Mi...    1   \n",
       "\n",
       "                                    Name  Year    Month   Weekday  \n",
       "0                 Gebratener Hasenrücken  2009  January  Thursday  \n",
       "1                        Pilz Stroganoff  2017     July  Saturday  \n",
       "2                   Kaninchen a la Gioff  2007  January    Monday  \n",
       "3         Spanisches Knoblauch-Kaninchen  2013    April    Monday  \n",
       "4  Gnocchi - Hack - Pfanne mit Basilikum  2017   August   Tuesday  "
      ]
     },
     "execution_count": 33,
     "metadata": {},
     "output_type": "execute_result"
    }
   ],
   "source": [
    "# Delete Duplicate Rows\n",
    "duplicate=df.drop_duplicates(['Name'],keep='first')\n",
    "print(\"Number of Duplicated Rows: \",len(dup))\n",
    "\n",
    "dup.head()"
   ]
  },
  {
   "cell_type": "code",
   "execution_count": 34,
   "id": "c16fe846",
   "metadata": {},
   "outputs": [
    {
     "data": {
      "text/html": [
       "<div>\n",
       "<style scoped>\n",
       "    .dataframe tbody tr th:only-of-type {\n",
       "        vertical-align: middle;\n",
       "    }\n",
       "\n",
       "    .dataframe tbody tr th {\n",
       "        vertical-align: top;\n",
       "    }\n",
       "\n",
       "    .dataframe thead th {\n",
       "        text-align: right;\n",
       "    }\n",
       "</style>\n",
       "<table border=\"1\" class=\"dataframe\">\n",
       "  <thead>\n",
       "    <tr style=\"text-align: right;\">\n",
       "      <th></th>\n",
       "      <th>Instructions</th>\n",
       "      <th>Ingredients</th>\n",
       "      <th>Name</th>\n",
       "    </tr>\n",
       "  </thead>\n",
       "  <tbody>\n",
       "    <tr>\n",
       "      <th>0</th>\n",
       "      <td>Die Eier hart kochen. Dann pellen und mit eine...</td>\n",
       "      <td>[600 g Hackfleisch, halb und halb, 800 g Sauer...</td>\n",
       "      <td>Gebratener Hasenrücken</td>\n",
       "    </tr>\n",
       "    <tr>\n",
       "      <th>1</th>\n",
       "      <td>Vorab folgende Bemerkung: Alle Mengen sind Cir...</td>\n",
       "      <td>[1 kg Strauchtomate(n), 1 Gemüsezwiebel(n), 1 ...</td>\n",
       "      <td>Pilz Stroganoff</td>\n",
       "    </tr>\n",
       "    <tr>\n",
       "      <th>2</th>\n",
       "      <td>Die Kirschen abtropfen lassen, dabei den Saft ...</td>\n",
       "      <td>[1 Glas Kirsche(n), 1 Pck. Vanillepuddingpulve...</td>\n",
       "      <td>Kaninchen a la Gioff</td>\n",
       "    </tr>\n",
       "    <tr>\n",
       "      <th>3</th>\n",
       "      <td>Den Spargel säubern, die holzigen Enden abschn...</td>\n",
       "      <td>[500 g Spargel, grüner, 300 ml Brühe oder Fond...</td>\n",
       "      <td>Spanisches Knoblauch-Kaninchen</td>\n",
       "    </tr>\n",
       "    <tr>\n",
       "      <th>4</th>\n",
       "      <td>Kohlrabi schälen und klein würfeln. Mit der Br...</td>\n",
       "      <td>[250 g Kohlrabi, 150 ml Gemüsebrühe, 150 ml Mi...</td>\n",
       "      <td>Gnocchi - Hack - Pfanne mit Basilikum</td>\n",
       "    </tr>\n",
       "  </tbody>\n",
       "</table>\n",
       "</div>"
      ],
      "text/plain": [
       "                                        Instructions  \\\n",
       "0  Die Eier hart kochen. Dann pellen und mit eine...   \n",
       "1  Vorab folgende Bemerkung: Alle Mengen sind Cir...   \n",
       "2  Die Kirschen abtropfen lassen, dabei den Saft ...   \n",
       "3  Den Spargel säubern, die holzigen Enden abschn...   \n",
       "4  Kohlrabi schälen und klein würfeln. Mit der Br...   \n",
       "\n",
       "                                         Ingredients  \\\n",
       "0  [600 g Hackfleisch, halb und halb, 800 g Sauer...   \n",
       "1  [1 kg Strauchtomate(n), 1 Gemüsezwiebel(n), 1 ...   \n",
       "2  [1 Glas Kirsche(n), 1 Pck. Vanillepuddingpulve...   \n",
       "3  [500 g Spargel, grüner, 300 ml Brühe oder Fond...   \n",
       "4  [250 g Kohlrabi, 150 ml Gemüsebrühe, 150 ml Mi...   \n",
       "\n",
       "                                    Name  \n",
       "0                 Gebratener Hasenrücken  \n",
       "1                        Pilz Stroganoff  \n",
       "2                   Kaninchen a la Gioff  \n",
       "3         Spanisches Knoblauch-Kaninchen  \n",
       "4  Gnocchi - Hack - Pfanne mit Basilikum  "
      ]
     },
     "execution_count": 34,
     "metadata": {},
     "output_type": "execute_result"
    }
   ],
   "source": [
    "# Remove unnecessary Column\n",
    "df = df.drop(['Day','Month','Url','Weekday','Year'],axis=1)\n",
    "\n",
    "df.head()"
   ]
  },
  {
   "cell_type": "code",
   "execution_count": 35,
   "id": "44b89492",
   "metadata": {},
   "outputs": [
    {
     "data": {
      "text/html": [
       "<div>\n",
       "<style scoped>\n",
       "    .dataframe tbody tr th:only-of-type {\n",
       "        vertical-align: middle;\n",
       "    }\n",
       "\n",
       "    .dataframe tbody tr th {\n",
       "        vertical-align: top;\n",
       "    }\n",
       "\n",
       "    .dataframe thead th {\n",
       "        text-align: right;\n",
       "    }\n",
       "</style>\n",
       "<table border=\"1\" class=\"dataframe\">\n",
       "  <thead>\n",
       "    <tr style=\"text-align: right;\">\n",
       "      <th></th>\n",
       "      <th>Instructions</th>\n",
       "      <th>Ingredients</th>\n",
       "      <th>Name</th>\n",
       "    </tr>\n",
       "  </thead>\n",
       "  <tbody>\n",
       "    <tr>\n",
       "      <th>0</th>\n",
       "      <td>Die Eier hart kochen. Dann pellen und mit eine...</td>\n",
       "      <td>600 g Hackfleisch, halb und halb 800 g Sauerkr...</td>\n",
       "      <td>Gebratener Hasenrücken</td>\n",
       "    </tr>\n",
       "    <tr>\n",
       "      <th>1</th>\n",
       "      <td>Vorab folgende Bemerkung: Alle Mengen sind Cir...</td>\n",
       "      <td>1 kg Strauchtomate(n) 1 Gemüsezwiebel(n) 1 Sal...</td>\n",
       "      <td>Pilz Stroganoff</td>\n",
       "    </tr>\n",
       "    <tr>\n",
       "      <th>2</th>\n",
       "      <td>Die Kirschen abtropfen lassen, dabei den Saft ...</td>\n",
       "      <td>1 Glas Kirsche(n) 1 Pck. Vanillepuddingpulver,...</td>\n",
       "      <td>Kaninchen a la Gioff</td>\n",
       "    </tr>\n",
       "    <tr>\n",
       "      <th>3</th>\n",
       "      <td>Den Spargel säubern, die holzigen Enden abschn...</td>\n",
       "      <td>500 g Spargel, grüner 300 ml Brühe oder Fond (...</td>\n",
       "      <td>Spanisches Knoblauch-Kaninchen</td>\n",
       "    </tr>\n",
       "    <tr>\n",
       "      <th>4</th>\n",
       "      <td>Kohlrabi schälen und klein würfeln. Mit der Br...</td>\n",
       "      <td>250 g Kohlrabi 150 ml Gemüsebrühe 150 ml Milch...</td>\n",
       "      <td>Gnocchi - Hack - Pfanne mit Basilikum</td>\n",
       "    </tr>\n",
       "  </tbody>\n",
       "</table>\n",
       "</div>"
      ],
      "text/plain": [
       "                                        Instructions  \\\n",
       "0  Die Eier hart kochen. Dann pellen und mit eine...   \n",
       "1  Vorab folgende Bemerkung: Alle Mengen sind Cir...   \n",
       "2  Die Kirschen abtropfen lassen, dabei den Saft ...   \n",
       "3  Den Spargel säubern, die holzigen Enden abschn...   \n",
       "4  Kohlrabi schälen und klein würfeln. Mit der Br...   \n",
       "\n",
       "                                         Ingredients  \\\n",
       "0  600 g Hackfleisch, halb und halb 800 g Sauerkr...   \n",
       "1  1 kg Strauchtomate(n) 1 Gemüsezwiebel(n) 1 Sal...   \n",
       "2  1 Glas Kirsche(n) 1 Pck. Vanillepuddingpulver,...   \n",
       "3  500 g Spargel, grüner 300 ml Brühe oder Fond (...   \n",
       "4  250 g Kohlrabi 150 ml Gemüsebrühe 150 ml Milch...   \n",
       "\n",
       "                                    Name  \n",
       "0                 Gebratener Hasenrücken  \n",
       "1                        Pilz Stroganoff  \n",
       "2                   Kaninchen a la Gioff  \n",
       "3         Spanisches Knoblauch-Kaninchen  \n",
       "4  Gnocchi - Hack - Pfanne mit Basilikum  "
      ]
     },
     "execution_count": 35,
     "metadata": {},
     "output_type": "execute_result"
    }
   ],
   "source": [
    "# Join Ingredients Array to Single String \n",
    "df['Ingredients'] = df['Ingredients'].apply(lambda x: ' '.join(x))\n",
    "\n",
    "df.head()"
   ]
  },
  {
   "cell_type": "code",
   "execution_count": 36,
   "id": "16d7ceed",
   "metadata": {},
   "outputs": [],
   "source": [
    "# Create Small Splited DataFrame & Save to json File (if You have weak CPU/GPU)\n",
    "\n",
    "df = df[:4000]\n",
    "df.to_json(r'./input/recipes4000.json')"
   ]
  },
  {
   "cell_type": "code",
   "execution_count": 37,
   "id": "ff915c74",
   "metadata": {},
   "outputs": [
    {
     "name": "stdout",
     "output_type": "stream",
     "text": [
      "we have 4000 Rows with 3 column Recipes\n"
     ]
    }
   ],
   "source": [
    "print(\"we have {} Rows with {} column Recipes\".format(df.shape[0], df.shape[1]))"
   ]
  },
  {
   "cell_type": "code",
   "execution_count": 5,
   "id": "cfc3bc3b",
   "metadata": {},
   "outputs": [],
   "source": [
    "# !python -m spacy download de_core_news_sm  #use it in First Run"
   ]
  },
  {
   "cell_type": "code",
   "execution_count": 38,
   "id": "5f146769",
   "metadata": {
    "scrolled": false
   },
   "outputs": [
    {
     "data": {
      "text/plain": [
       "'Die Eier hart kochen. Dann pellen und mit einem Eierschneider in Scheiben schneiden. Den Reis halbgar kochen und zur Seite stellen. Die Wurst (Kolbász) in dünne Scheiben schneiden.Den Knoblauch abziehen und fein würfeln. Die Zwiebel schälen, fein hacken und in etwas Fett glasig braten. Knoblauch und Hackfleisch dazu geben und so lange braten, bis das Hackfleisch schön krümelig wird. Den eigenen Saft nicht ganz verkochen lassen. Die Fleischmasse mit Salz, Pfeffer und Paprikapulver würzen.Das Sauerkraut kurz durchspülen, ausdrücken und abtropfen lassen (damit es nicht zu sauer wird). Das Sauerkraut in einen Topf geben und mit dem Kümmel und den Lorbeerblättern vermischen. Ca. 30 Minuten unter Zugabe von wenig Wasser bei niedriger Stufe dünsten.Eine feuerfeste Form mit etwas Öl einfetten und den Boden dünn mit Sauerkraut belegen. Darauf Kolbász und die Hälfte der in Scheiben geschnittene Eier verteilen, dann eine weitere dünne Schicht Sauerkraut drüber legen. Mit 1 Becher Schmand bedecken. Nun das Hackfleisch mit dem Reis mischen und auf der Sauerkrautschicht gleichmäßig verteilen. Mit der zweiten Hälfte der Eier belegen und die dritte Schicht Sauerkraut oben drauf verteilen. Wenn noch Zutaten (Hackfleisch-Reis-Masse und Sauerkraut) übrig sind, kann man diese Schichten weiter so legen. Ganz oben kommt eine Schicht Sauerkraut. Auf diese letzte Schicht verteilt man noch den Rest vom Schmand (sollte reichlich sein). Den Speck in dünne Scheiben schneiden und damit alles abdecken. Mit etwas Öl besprenkeln. Die Form mit einem Deckel verschließend.Im vorgeheizten Backofen bei 175°C ober-/Unterhitze gut 1 Std. garen.Ganz frische Baguettebrötchen oder Weißbrot schmeckt am allerbesten dazu. Man kann aber auch Kartoffel- oder Semmelknödel dazu reichen. Etwas aufwendig, aber die Mühe lohnt sich... es ist einfach mega-ober-lecker.Anmerkung: Für viele sind Eier in Verbindung mit Sauerkraut ein No-Go, man kann sie also auch weglassen.'"
      ]
     },
     "execution_count": 38,
     "metadata": {},
     "output_type": "execute_result"
    }
   ],
   "source": [
    "df.Instructions[0] #see What inside"
   ]
  },
  {
   "cell_type": "code",
   "execution_count": 39,
   "id": "389c4a43",
   "metadata": {},
   "outputs": [
    {
     "data": {
      "text/plain": [
       "(1000, 3)"
      ]
     },
     "execution_count": 39,
     "metadata": {},
     "output_type": "execute_result"
    }
   ],
   "source": [
    "# get 1000 get Validation TF Model\n",
    "eval_df = df[3000:]\n",
    "eval_df.shape"
   ]
  },
  {
   "cell_type": "code",
   "execution_count": 40,
   "id": "f58a276c",
   "metadata": {},
   "outputs": [
    {
     "data": {
      "text/plain": [
       "(3000, 3)"
      ]
     },
     "execution_count": 40,
     "metadata": {},
     "output_type": "execute_result"
    }
   ],
   "source": [
    "# get 3000 for train TF Model\n",
    "df = df[:3000]\n",
    "df.shape"
   ]
  },
  {
   "cell_type": "code",
   "execution_count": 41,
   "id": "36986b6d",
   "metadata": {},
   "outputs": [],
   "source": [
    "import spacy\n",
    "nlp = spacy.load('de_core_news_sm' , disable=['parser', 'tagger', 'ner'])"
   ]
  },
  {
   "cell_type": "code",
   "execution_count": 42,
   "id": "dbaf1f79",
   "metadata": {},
   "outputs": [],
   "source": [
    "tokenized = [nlp(t) for t in df['Instructions'].values]"
   ]
  },
  {
   "cell_type": "code",
   "execution_count": 43,
   "id": "d5d05e14",
   "metadata": {},
   "outputs": [
    {
     "name": "stdout",
     "output_type": "stream",
     "text": [
      "Die\n",
      "Eier\n",
      "hart\n",
      "kochen\n",
      ".\n",
      "Dann\n",
      "pellen\n",
      "und\n",
      "mit\n",
      "einem\n",
      "Eierschneider\n",
      "in\n",
      "Scheiben\n",
      "schneiden\n",
      ".\n",
      "Den\n",
      "Reis\n",
      "halbgar\n",
      "kochen\n",
      "und\n",
      "zur\n",
      "Seite\n",
      "stellen\n",
      ".\n",
      "Die\n",
      "Wurst\n",
      "(\n",
      "Kolbász\n",
      ")\n",
      "in\n",
      "dünne\n",
      "Scheiben\n",
      "schneiden\n",
      ".\n",
      "Den\n",
      "Knoblauch\n",
      "abziehen\n",
      "und\n",
      "fein\n",
      "würfeln\n",
      ".\n",
      "Die\n",
      "Zwiebel\n",
      "schälen\n",
      ",\n",
      "fein\n",
      "hacken\n",
      "und\n",
      "in\n",
      "etwas\n",
      "Fett\n",
      "glasig\n",
      "braten\n",
      ".\n",
      "Knoblauch\n",
      "und\n",
      "Hackfleisch\n",
      "dazu\n",
      "geben\n",
      "und\n",
      "so\n",
      "lange\n",
      "braten\n",
      ",\n",
      "bis\n",
      "das\n",
      "Hackfleisch\n",
      "schön\n",
      "krümelig\n",
      "wird\n",
      ".\n",
      "Den\n",
      "eigenen\n",
      "Saft\n",
      "nicht\n",
      "ganz\n",
      "verkochen\n",
      "lassen\n",
      ".\n",
      "Die\n",
      "Fleischmasse\n",
      "mit\n",
      "Salz\n",
      ",\n",
      "Pfeffer\n",
      "und\n",
      "Paprikapulver\n",
      "würzen\n",
      ".\n",
      "Das\n",
      "Sauerkraut\n",
      "kurz\n",
      "durchspülen\n",
      ",\n",
      "ausdrücken\n",
      "und\n",
      "abtropfen\n",
      "lassen\n",
      "(\n",
      "damit\n",
      "es\n",
      "nicht\n",
      "zu\n",
      "sauer\n",
      "wird\n",
      ")\n",
      ".\n",
      "Das\n",
      "Sauerkraut\n",
      "in\n",
      "einen\n",
      "Topf\n",
      "geben\n",
      "und\n",
      "mit\n",
      "dem\n",
      "Kümmel\n",
      "und\n",
      "den\n",
      "Lorbeerblättern\n",
      "vermischen\n",
      ".\n",
      "Ca\n",
      ".\n",
      "30\n",
      "Minuten\n",
      "unter\n",
      "Zugabe\n",
      "von\n",
      "wenig\n",
      "Wasser\n",
      "bei\n",
      "niedriger\n",
      "Stufe\n",
      "dünsten\n",
      ".\n",
      "Eine\n",
      "feuerfeste\n",
      "Form\n",
      "mit\n",
      "etwas\n",
      "Öl\n",
      "einfetten\n",
      "und\n",
      "den\n",
      "Boden\n",
      "dünn\n",
      "mit\n",
      "Sauerkraut\n",
      "belegen\n",
      ".\n",
      "Darauf\n",
      "Kolbász\n",
      "und\n",
      "die\n",
      "Hälfte\n",
      "der\n",
      "in\n",
      "Scheiben\n",
      "geschnittene\n",
      "Eier\n",
      "verteilen\n",
      ",\n",
      "dann\n",
      "eine\n",
      "weitere\n",
      "dünne\n",
      "Schicht\n",
      "Sauerkraut\n",
      "drüber\n",
      "legen\n",
      ".\n",
      "Mit\n",
      "1\n",
      "Becher\n",
      "Schmand\n",
      "bedecken\n",
      ".\n",
      "Nun\n",
      "das\n",
      "Hackfleisch\n",
      "mit\n",
      "dem\n",
      "Reis\n",
      "mischen\n",
      "und\n",
      "auf\n",
      "der\n",
      "Sauerkrautschicht\n",
      "gleichmäßig\n",
      "verteilen\n",
      ".\n",
      "Mit\n",
      "der\n",
      "zweiten\n",
      "Hälfte\n",
      "der\n",
      "Eier\n",
      "belegen\n",
      "und\n",
      "die\n",
      "dritte\n",
      "Schicht\n",
      "Sauerkraut\n",
      "oben\n",
      "drauf\n",
      "verteilen\n",
      ".\n",
      "Wenn\n",
      "noch\n",
      "Zutaten\n",
      "(\n",
      "Hackfleisch-Reis-Masse\n",
      "und\n",
      "Sauerkraut\n",
      ")\n",
      "übrig\n",
      "sind\n",
      ",\n",
      "kann\n",
      "man\n",
      "diese\n",
      "Schichten\n",
      "weiter\n",
      "so\n",
      "legen\n",
      ".\n",
      "Ganz\n",
      "oben\n",
      "kommt\n",
      "eine\n",
      "Schicht\n",
      "Sauerkraut\n",
      ".\n",
      "Auf\n",
      "diese\n",
      "letzte\n",
      "Schicht\n",
      "verteilt\n",
      "man\n",
      "noch\n",
      "den\n",
      "Rest\n",
      "vom\n",
      "Schmand\n",
      "(\n",
      "sollte\n",
      "reichlich\n",
      "sein\n",
      ")\n",
      ".\n",
      "Den\n",
      "Speck\n",
      "in\n",
      "dünne\n",
      "Scheiben\n",
      "schneiden\n",
      "und\n",
      "damit\n",
      "alles\n",
      "abdecken\n",
      ".\n",
      "Mit\n",
      "etwas\n",
      "Öl\n",
      "besprenkeln\n",
      ".\n",
      "Die\n",
      "Form\n",
      "mit\n",
      "einem\n",
      "Deckel\n",
      "verschließend\n",
      ".\n",
      "Im\n",
      "vorgeheizten\n",
      "Backofen\n",
      "bei\n",
      "175\n",
      "°\n",
      "C\n",
      "ober-/Unterhitze\n",
      "gut\n",
      "1\n",
      "Std.\n",
      "garen\n",
      ".\n",
      "Ganz\n",
      "frische\n",
      "Baguettebrötchen\n",
      "oder\n",
      "Weißbrot\n",
      "schmeckt\n",
      "am\n",
      "allerbesten\n",
      "dazu\n",
      ".\n",
      "Man\n",
      "kann\n",
      "aber\n",
      "auch\n",
      "Kartoffel-\n",
      "oder\n",
      "Semmelknödel\n",
      "dazu\n",
      "reichen\n",
      ".\n",
      "Etwas\n",
      "aufwendig\n",
      ",\n",
      "aber\n",
      "die\n",
      "Mühe\n",
      "lohnt\n",
      "sich\n",
      "...\n",
      "es\n",
      "ist\n",
      "einfach\n",
      "mega-ober-lecker\n",
      ".\n",
      "Anmerkung\n",
      ":\n",
      "Für\n",
      "viele\n",
      "sind\n",
      "Eier\n",
      "in\n",
      "Verbindung\n",
      "mit\n",
      "Sauerkraut\n",
      "ein\n",
      "No-Go\n",
      ",\n",
      "man\n",
      "kann\n",
      "sie\n",
      "also\n",
      "auch\n",
      "weglassen\n",
      ".\n"
     ]
    }
   ],
   "source": [
    "for t in tokenized[0]:\n",
    "    print(t)"
   ]
  },
  {
   "cell_type": "code",
   "execution_count": 52,
   "id": "dde3c25e",
   "metadata": {},
   "outputs": [],
   "source": [
    "vocab = {}\n",
    "for txt in tokenized:\n",
    "    for token in txt:\n",
    "        if token.text not in vocab.keys() and len(token.text)> 2:\n",
    "            vocab[token.text] = len(vocab)"
   ]
  },
  {
   "cell_type": "code",
   "execution_count": 53,
   "id": "1832ae03",
   "metadata": {},
   "outputs": [
    {
     "name": "stdout",
     "output_type": "stream",
     "text": [
      "Number of unique tokens: 11621 for Instructions\n"
     ]
    }
   ],
   "source": [
    "print(\"Number of unique tokens: {} for Instructions\".format(len(vocab)))"
   ]
  },
  {
   "cell_type": "code",
   "execution_count": 16,
   "id": "8d82efbf",
   "metadata": {
    "scrolled": true
   },
   "outputs": [
    {
     "name": "stdout",
     "output_type": "stream",
     "text": [
      "['600 g Hackfleisch, halb und halb', '800 g Sauerkraut', '200 g Wurst, geräucherte (Csabai Kolbász)', '150 g Speck, durchwachsener, geräucherter', '100 g Reis', '1 m.-große Zwiebel(n)', '1 Zehe/n Knoblauch', '2 Becher Schmand', '1/2TL Kümmel, ganzer', '2 Lorbeerblätter', 'Salz und Pfeffer', '4 Ei(er) (bei Bedarf)', 'Paprikapulver', 'etwas Wasser', 'Öl']\n"
     ]
    }
   ],
   "source": [
    "#creating Labels\n",
    "ingredients = df.Ingredients\n",
    "\n",
    "print(ingredients[0])"
   ]
  },
  {
   "cell_type": "code",
   "execution_count": 17,
   "id": "5d3536d1",
   "metadata": {},
   "outputs": [],
   "source": [
    "# Clean & filter Each Ingredients\n",
    "\n",
    "def _filter(token):\n",
    "    if len(token) < 2:\n",
    "        return False\n",
    "    if token.is_stop:\n",
    "        return False\n",
    "    if token.text[0].islower():\n",
    "        return False\n",
    "    if token.is_digit:\n",
    "        return False\n",
    "    if token.like_num:\n",
    "        return False\n",
    "    return True\n",
    "\n",
    "def _clean(text):\n",
    "    text = text.replace(\"(\", \"\")\n",
    "    text = text.split(\"/\")[0]\n",
    "    return text"
   ]
  },
  {
   "cell_type": "code",
   "execution_count": 18,
   "id": "b7dff0eb",
   "metadata": {},
   "outputs": [
    {
     "data": {
      "text/plain": [
       "['Rosenkohl',\n",
       " 'Schalotte',\n",
       " '2Tasse',\n",
       " 'Hühnerbrühe',\n",
       " 'Milch',\n",
       " 'EL',\n",
       " 'Crème',\n",
       " 'Speck',\n",
       " 'Kartoffelgnocchi']"
      ]
     },
     "execution_count": 18,
     "metadata": {},
     "output_type": "execute_result"
    }
   ],
   "source": [
    "clean = [_clean(t.text) for i in ingredients[214] for t in nlp(i) if _filter(t) and len(_clean(t.text)) >= 2]\n",
    "clean"
   ]
  },
  {
   "cell_type": "code",
   "execution_count": 19,
   "id": "edd452f8",
   "metadata": {},
   "outputs": [],
   "source": [
    "def get_labels(ingredients, tokenized_instructions):\n",
    "    labels = []\n",
    "    for ing, ti in zip(ingredients, tokenized_instructions):\n",
    "        l_i = []\n",
    "        ci = [_clean(t.text) for i in ing for t in nlp(i) if _filter(t) and len(_clean(t.text)) >= 2]\n",
    "        label = []\n",
    "        for token in ti:\n",
    "            l_i.append(any((c == token.text or c == token.text[:-1] or c[:-1] == token.text) for c in ci))\n",
    "        labels.append(l_i)\n",
    "    return labels"
   ]
  },
  {
   "cell_type": "code",
   "execution_count": 20,
   "id": "88858b66",
   "metadata": {},
   "outputs": [
    {
     "data": {
      "text/plain": [
       "{'Crème', 'Hühnerbrühe', 'Milch', 'Rosenkohl', 'Schalotten', 'Speck'}"
      ]
     },
     "execution_count": 20,
     "metadata": {},
     "output_type": "execute_result"
    }
   ],
   "source": [
    "labels = get_labels(ingredients, tokenized)\n",
    "\n",
    "set([t.text for t, l in zip(tokenized[214], labels[214]) if l])"
   ]
  },
  {
   "cell_type": "code",
   "execution_count": 21,
   "id": "3d601796",
   "metadata": {},
   "outputs": [
    {
     "data": {
      "image/png": "[encoded data removed]",
      "text/plain": [
       "<Figure size 432x288 with 1 Axes>"
      ]
     },
     "metadata": {
      "needs_background": "light"
     },
     "output_type": "display_data"
    }
   ],
   "source": [
    "plt.hist([len([t for t in tokens]) for tokens in tokenized], bins=20);"
   ]
  },
  {
   "cell_type": "code",
   "execution_count": 22,
   "id": "e91e0ccf",
   "metadata": {},
   "outputs": [],
   "source": [
    "MAX_LEN = 400"
   ]
  },
  {
   "cell_type": "code",
   "execution_count": 23,
   "id": "7926a019",
   "metadata": {},
   "outputs": [],
   "source": [
    "from keras.preprocessing.sequence import pad_sequences\n",
    "\n",
    "def prepare_sequences(texts, max_len, vocab={\"<UNK>\": 1, \"<PAD>\": 0}):\n",
    "    X = [[vocab.get(w.text, vocab[\"<UNK>\"]) for w in s] for s in texts]\n",
    "    return pad_sequences(maxlen=max_len, sequences=X, padding=\"post\", value=vocab[\"<PAD>\"])"
   ]
  },
  {
   "cell_type": "code",
   "execution_count": 24,
   "id": "ff4a5336",
   "metadata": {},
   "outputs": [],
   "source": [
    "X_seq = prepare_sequences(tokenized, max_len=MAX_LEN, vocab=vocab)"
   ]
  },
  {
   "cell_type": "code",
   "execution_count": 25,
   "id": "5c1ee5bc",
   "metadata": {
    "scrolled": true
   },
   "outputs": [
    {
     "data": {
      "text/plain": [
       "array([1, 1, 1, 1, 1, 1, 1, 1, 1, 1, 1, 1, 1, 1, 1, 1, 1, 1, 1, 1, 1, 1,\n",
       "       1, 1, 1, 1, 1, 1, 1, 1, 1, 1, 1, 1, 1, 1, 1, 1, 1, 1, 1, 1, 1, 1,\n",
       "       1, 1, 1, 1, 1, 1, 1, 1, 1, 1, 1, 1, 1, 1, 1, 1, 1, 1, 1, 1, 1, 1,\n",
       "       1, 1, 1, 1, 1, 1, 1, 1, 1, 1, 1, 1, 1, 1, 1, 1, 1, 1, 1, 1, 1, 1,\n",
       "       1, 1, 1, 1, 1, 1, 1, 1, 1, 1, 1, 1, 1, 1, 1, 1, 1, 1, 1, 1, 1, 1,\n",
       "       1, 1, 1, 1, 1, 1, 1, 1, 1, 1, 1, 1, 1, 1, 1, 1, 1, 1, 1, 1, 1, 1,\n",
       "       1, 1, 1, 1, 1, 1, 1, 1, 1, 1, 1, 1, 1, 1, 1, 1, 1, 1, 1, 1, 1, 1,\n",
       "       1, 1, 1, 1, 1, 1, 1, 1, 1, 1, 1, 1, 1, 1, 1, 1, 1, 1, 1, 1, 1, 1,\n",
       "       1, 1, 1, 1, 1, 1, 1, 1, 1, 1, 1, 1, 1, 1, 1, 1, 1, 1, 1, 1, 1, 1,\n",
       "       1, 1, 1, 1, 1, 1, 1, 1, 1, 1, 1, 1, 1, 1, 1, 1, 1, 1, 1, 1, 1, 1,\n",
       "       1, 1, 1, 1, 1, 1, 1, 1, 1, 1, 1, 1, 1, 1, 1, 1, 1, 1, 1, 1, 1, 1,\n",
       "       1, 1, 1, 1, 1, 1, 1, 1, 1, 1, 1, 1, 1, 1, 1, 1, 1, 1, 1, 1, 1, 1,\n",
       "       1, 1, 1, 1, 1, 1, 1, 1, 1, 1, 1, 1, 1, 1, 1, 1, 1, 1, 1, 1, 1, 1,\n",
       "       1, 1, 1, 1, 1, 1, 1, 1, 1, 1, 1, 1, 1, 1, 1, 1, 1, 1, 1, 1, 1, 1,\n",
       "       1, 1, 1, 1, 1, 1, 1, 1, 1, 1, 1, 1, 1, 1, 1, 1, 1, 1, 1, 1, 1, 1,\n",
       "       1, 1, 1, 1, 1, 1, 1, 1, 1, 1, 1, 0, 0, 0, 0, 0, 0, 0, 0, 0, 0, 0,\n",
       "       0, 0, 0, 0, 0, 0, 0, 0, 0, 0, 0, 0, 0, 0, 0, 0, 0, 0, 0, 0, 0, 0,\n",
       "       0, 0, 0, 0, 0, 0, 0, 0, 0, 0, 0, 0, 0, 0, 0, 0, 0, 0, 0, 0, 0, 0,\n",
       "       0, 0, 0, 0])"
      ]
     },
     "execution_count": 25,
     "metadata": {},
     "output_type": "execute_result"
    }
   ],
   "source": [
    "X_seq[0]"
   ]
  },
  {
   "cell_type": "code",
   "execution_count": 26,
   "id": "7fd56c0e",
   "metadata": {},
   "outputs": [],
   "source": [
    "y_seq = []\n",
    "for l in labels:\n",
    "    y_i = []\n",
    "    for i in range(MAX_LEN):\n",
    "        try:\n",
    "            y_i.append(float(l[i]))\n",
    "        except:\n",
    "            y_i.append(0.0)\n",
    "    y_seq.append(np.array(y_i))\n",
    "y_seq = np.array(y_seq)\n",
    "y_seq = y_seq.reshape(y_seq.shape[0], y_seq.shape[1], 1)"
   ]
  },
  {
   "cell_type": "code",
   "execution_count": 27,
   "id": "9342680b",
   "metadata": {},
   "outputs": [
    {
     "name": "stdout",
     "output_type": "stream",
     "text": [
      "2.7.0\n",
      "2.7.0\n"
     ]
    }
   ],
   "source": [
    "# ML with TensorFlow\n",
    "\n",
    "import tensorflow as tf\n",
    "from tensorflow.keras import layers\n",
    "\n",
    "print(tf.version.VERSION)\n",
    "print(tf.keras.__version__)"
   ]
  },
  {
   "cell_type": "code",
   "execution_count": 28,
   "id": "b1ea6964",
   "metadata": {},
   "outputs": [],
   "source": [
    "model = tf.keras.Sequential()\n",
    "model.add(layers.Embedding(input_dim=len(vocab), mask_zero=True, output_dim=50))\n",
    "model.add(layers.SpatialDropout1D(0.2))\n",
    "model.add(layers.Bidirectional(layers.LSTM(units=64, return_sequences=True)))\n",
    "model.add(layers.SpatialDropout1D(0.2))\n",
    "model.add(layers.Bidirectional(layers.LSTM(units=64, return_sequences=True)))\n",
    "model.add(layers.TimeDistributed(layers.Dense(1, activation='sigmoid')))"
   ]
  },
  {
   "cell_type": "code",
   "execution_count": 29,
   "id": "22bdc8ad",
   "metadata": {},
   "outputs": [],
   "source": [
    "model.compile(optimizer=tf.optimizers.Adam(0.001),\n",
    "              loss='binary_crossentropy',\n",
    "              metrics=['accuracy'])"
   ]
  },
  {
   "cell_type": "code",
   "execution_count": 30,
   "id": "19e68064",
   "metadata": {},
   "outputs": [
    {
     "name": "stdout",
     "output_type": "stream",
     "text": [
      "Model: \"sequential\"\n",
      "_________________________________________________________________\n",
      " Layer (type)                Output Shape              Param #   \n",
      "=================================================================\n",
      " embedding (Embedding)       (None, None, 50)          21262950  \n",
      "                                                                 \n",
      " spatial_dropout1d (SpatialD  (None, None, 50)         0         \n",
      " ropout1D)                                                       \n",
      "                                                                 \n",
      " bidirectional (Bidirectiona  (None, None, 128)        58880     \n",
      " l)                                                              \n",
      "                                                                 \n",
      " spatial_dropout1d_1 (Spatia  (None, None, 128)        0         \n",
      " lDropout1D)                                                     \n",
      "                                                                 \n",
      " bidirectional_1 (Bidirectio  (None, None, 128)        98816     \n",
      " nal)                                                            \n",
      "                                                                 \n",
      " time_distributed (TimeDistr  (None, None, 1)          129       \n",
      " ibuted)                                                         \n",
      "                                                                 \n",
      "=================================================================\n",
      "Total params: 21,420,775\n",
      "Trainable params: 21,420,775\n",
      "Non-trainable params: 0\n",
      "_________________________________________________________________\n"
     ]
    }
   ],
   "source": [
    "model.summary()"
   ]
  },
  {
   "cell_type": "code",
   "execution_count": 31,
   "id": "24e26731",
   "metadata": {
    "scrolled": true
   },
   "outputs": [
    {
     "name": "stdout",
     "output_type": "stream",
     "text": [
      "Epoch 1/10\n",
      "11/11 [==============================] - 275s 23s/step - loss: 0.1760 - accuracy: 0.8490 - val_loss: 0.1121 - val_accuracy: 0.9140\n",
      "Epoch 2/10\n",
      "11/11 [==============================] - 257s 24s/step - loss: 0.1138 - accuracy: 0.9114 - val_loss: 0.1028 - val_accuracy: 0.9140\n",
      "Epoch 3/10\n",
      "11/11 [==============================] - 268s 24s/step - loss: 0.1078 - accuracy: 0.9114 - val_loss: 0.1013 - val_accuracy: 0.9140\n",
      "Epoch 4/10\n",
      "11/11 [==============================] - 304s 28s/step - loss: 0.1063 - accuracy: 0.9114 - val_loss: 0.1013 - val_accuracy: 0.9140\n",
      "Epoch 5/10\n",
      "11/11 [==============================] - 309s 28s/step - loss: 0.1059 - accuracy: 0.9114 - val_loss: 0.1013 - val_accuracy: 0.9140\n",
      "Epoch 6/10\n",
      "11/11 [==============================] - 303s 28s/step - loss: 0.1058 - accuracy: 0.9114 - val_loss: 0.1010 - val_accuracy: 0.9140\n",
      "Epoch 7/10\n",
      "11/11 [==============================] - 306s 28s/step - loss: 0.1056 - accuracy: 0.9114 - val_loss: 0.1009 - val_accuracy: 0.9140\n",
      "Epoch 8/10\n",
      "11/11 [==============================] - 311s 28s/step - loss: 0.1055 - accuracy: 0.9114 - val_loss: 0.1008 - val_accuracy: 0.9140\n",
      "Epoch 9/10\n",
      "11/11 [==============================] - 317s 29s/step - loss: 0.1053 - accuracy: 0.9114 - val_loss: 0.1006 - val_accuracy: 0.9140\n",
      "Epoch 10/10\n",
      "11/11 [==============================] - 324s 29s/step - loss: 0.1051 - accuracy: 0.9114 - val_loss: 0.1004 - val_accuracy: 0.9140\n"
     ]
    }
   ],
   "source": [
    "history = model.fit(X_seq, y_seq, epochs=10, batch_size=256, validation_split=0.1)"
   ]
  },
  {
   "cell_type": "code",
   "execution_count": 32,
   "id": "0af53433",
   "metadata": {
    "scrolled": true
   },
   "outputs": [
    {
     "data": {
      "image/png": "[encoded data removed]",
      "text/plain": [
       "<Figure size 432x288 with 1 Axes>"
      ]
     },
     "metadata": {
      "needs_background": "light"
     },
     "output_type": "display_data"
    }
   ],
   "source": [
    "plt.plot(history.history[\"loss\"], label=\"trn_loss\");\n",
    "plt.plot(history.history[\"val_loss\"], label=\"val_loss\");\n",
    "plt.legend();\n",
    "plt.title(\"Loss\");"
   ]
  },
  {
   "cell_type": "code",
   "execution_count": 33,
   "id": "084855b6",
   "metadata": {},
   "outputs": [
    {
     "data": {
      "image/png": "[encoded data removed]",
      "text/plain": [
       "<Figure size 432x288 with 1 Axes>"
      ]
     },
     "metadata": {
      "needs_background": "light"
     },
     "output_type": "display_data"
    }
   ],
   "source": [
    "plt.plot(history.history[\"accuracy\"], label=\"trn_acc\");\n",
    "plt.plot(history.history[\"val_accuracy\"], label=\"val_acc\");\n",
    "plt.legend();\n",
    "plt.title(\"Accuracy\");"
   ]
  },
  {
   "cell_type": "code",
   "execution_count": 34,
   "id": "43931bcf",
   "metadata": {},
   "outputs": [
    {
     "name": "stdout",
     "output_type": "stream",
     "text": [
      "3/3 [==============================] - 61s 18s/step\n"
     ]
    }
   ],
   "source": [
    "# Analyse the predictions of the model\n",
    "# Now that the model is trained, we can look at some predictions on the training set.\n",
    "y_pred = model.predict(X_seq, verbose=1, batch_size=1024)"
   ]
  },
  {
   "cell_type": "code",
   "execution_count": 36,
   "id": "76d97b24",
   "metadata": {},
   "outputs": [],
   "source": [
    "i = 2343\n",
    "pred_i = y_pred[i] > 0.05"
   ]
  },
  {
   "cell_type": "code",
   "execution_count": 37,
   "id": "438a4d48",
   "metadata": {},
   "outputs": [
    {
     "data": {
      "text/plain": [
       "Die Brotscheiben 5-10 Minuten in Wasser einweichen und ausdrücken. Alle Zutaten für die Suppe in einen Mixer zu einer glatten Creme rühren und durch ein Sieb streichen. Evt. nachwürzen und mehrere Stunden kaltstellen. Die Suppe muss eiskalt sein.Gurke schälen und fein würfeln. Paprikaschote von Kerngehäuse und den weißen Rippen befreien und in feine Würfel schneiden. Tomaten abziehen und fein würfeln und mit fein gehackter Zwiebel vermischen.Jede Portion mit einem gehäuften Löffel der Garnierung ihrer Wahl anrichten und servieren."
      ]
     },
     "execution_count": 37,
     "metadata": {},
     "output_type": "execute_result"
    }
   ],
   "source": [
    "tokenized[i]"
   ]
  },
  {
   "cell_type": "code",
   "execution_count": 38,
   "id": "600af267",
   "metadata": {
    "scrolled": true
   },
   "outputs": [
    {
     "name": "stdout",
     "output_type": "stream",
     "text": [
      "{'Alle', 'Kerngehäuse', 'Die', 'mit', 'Würfel', 'anrichten', '10', 'einweichen', '5', 'von', '.', 'durch', 'befreien', 'schneiden', 'glatten', 'zu', 'eiskalt', 'einem', 'ihrer', 'würfeln', '-', 'Creme', 'Paprikaschote', 'gehäuften', 'und', 'für', 'ein', 'rühren', 'die', 'fein', 'gehackter', 'Portion', 'Zutaten', 'Suppe', 'vermischen', 'der', 'Jede', 'abziehen', 'einer', 'muss', 'einen', 'streichen', 'Stunden', 'schälen', 'in', 'nachwürzen', 'kaltstellen', 'Mixer', 'Gurke', 'feine', 'den', 'Tomaten', 'sein', 'Löffel', 'Minuten', 'Evt', 'Brotscheiben', 'Zwiebel', 'servieren', 'Garnierung', 'ausdrücken', 'Rippen', 'Wahl', 'Sieb', 'mehrere', 'Wasser', 'weißen'}\n"
     ]
    }
   ],
   "source": [
    "ingreds = [t.text for t, p in zip(tokenized[i], pred_i) if p]\n",
    "print(set(ingreds))"
   ]
  },
  {
   "cell_type": "code",
   "execution_count": 41,
   "id": "2bd99887",
   "metadata": {},
   "outputs": [
    {
     "data": {
      "text/plain": [
       "{'Gurke', 'Paprikaschote', 'Tomaten', 'Wasser', 'Zwiebel'}"
      ]
     },
     "execution_count": 41,
     "metadata": {},
     "output_type": "execute_result"
    }
   ],
   "source": [
    "ingreds = [t.text for t, p in zip(tokenized[i], y_seq[i]) if p]\n",
    "set(ingreds)"
   ]
  },
  {
   "cell_type": "code",
   "execution_count": 42,
   "id": "0bb0c59b",
   "metadata": {},
   "outputs": [
    {
     "data": {
      "text/plain": [
       "['500 g Tomate(n), reif, abgezogen',\n",
       " '3 Zehe/n Knoblauch, geschält (bis 4 Zehen)',\n",
       " '2 EL Olivenöl',\n",
       " '12 EL Essig (Weinessig)',\n",
       " 'Salz und Pfeffer',\n",
       " '250 ml Wasser, eiskalt',\n",
       " '2 Scheibe/n Brot(e) (altbackenes Meterbrot ohne Rinde)',\n",
       " '1 TL Paprikapulver, rosenscharf',\n",
       " '1 Frühlingszwiebel(n)',\n",
       " '1/2TL Kreuzkümmel, zerstoßen',\n",
       " '2 EL Basilikum, Blätter, frisch gezupft',\n",
       " 'Für die Garnitur:',\n",
       " '1 Gurke(n), klein',\n",
       " '1 Paprikaschote(n), rot',\n",
       " '4 EL Zwiebel(n), feingehackt',\n",
       " '2 Tomate(n)']"
      ]
     },
     "execution_count": 42,
     "metadata": {},
     "output_type": "execute_result"
    }
   ],
   "source": [
    "ingredients[i]"
   ]
  },
  {
   "cell_type": "code",
   "execution_count": 44,
   "id": "ed4910c8",
   "metadata": {},
   "outputs": [],
   "source": [
    "# This looks very good! Our model seems to be able to identify the ingredients better than our training labels.\n",
    "# So we now use the produced labels for fine-tuning the network.\n"
   ]
  },
  {
   "cell_type": "code",
   "execution_count": 45,
   "id": "e320ce51",
   "metadata": {},
   "outputs": [],
   "source": [
    "new_labels = []\n",
    "for pred_i, ti in zip(y_pred, tokenized):\n",
    "    l_i = []\n",
    "    ci = [t.text for t, p in zip(tokenized[i], pred_i > 0.05) if p]\n",
    "    label = []\n",
    "    for token in ti:\n",
    "        l_i.append(any((c == token.text or c == token.text[:-1] or c[:-1] == token.text) for c in ci))\n",
    "    new_labels.append(l_i)"
   ]
  },
  {
   "cell_type": "code",
   "execution_count": 46,
   "id": "5de315b7",
   "metadata": {},
   "outputs": [],
   "source": [
    "y_seq_new = []\n",
    "for l in new_labels:\n",
    "    y_i = []\n",
    "    for i in range(MAX_LEN):\n",
    "        try:\n",
    "            y_i.append(float(l[i]))\n",
    "        except:\n",
    "            y_i.append(0.0)\n",
    "    y_seq_new.append(np.array(y_i))\n",
    "y_seq_new = np.array(y_seq_new)\n",
    "y_seq_new = y_seq.reshape(y_seq_new.shape[0], y_seq_new.shape[1], 1)"
   ]
  },
  {
   "cell_type": "code",
   "execution_count": 47,
   "id": "b84743b2",
   "metadata": {
    "scrolled": true
   },
   "outputs": [
    {
     "name": "stdout",
     "output_type": "stream",
     "text": [
      "11/11 [==============================] - 309s 28s/step - loss: 0.1048 - accuracy: 0.9114 - val_loss: 0.1002 - val_accuracy: 0.9140\n"
     ]
    }
   ],
   "source": [
    "# We fit the network again for one epoch with the new labels.\n",
    "history = model.fit(X_seq, y_seq_new, epochs=1, batch_size=256, validation_split=0.1)"
   ]
  },
  {
   "cell_type": "code",
   "execution_count": 48,
   "id": "e7f4a9e7",
   "metadata": {},
   "outputs": [],
   "source": [
    "# Look at test data\n",
    "eval_ingredients = eval_df.Ingredients.values"
   ]
  },
  {
   "cell_type": "code",
   "execution_count": 49,
   "id": "847958af",
   "metadata": {},
   "outputs": [],
   "source": [
    "eval_tokenized = [nlp(t) for t in eval_df.Instructions.values]\n",
    "\n",
    "X_seq_test = prepare_sequences(eval_tokenized, max_len=MAX_LEN, vocab=vocab)"
   ]
  },
  {
   "cell_type": "code",
   "execution_count": 50,
   "id": "bbf7bbe7",
   "metadata": {},
   "outputs": [
    {
     "name": "stdout",
     "output_type": "stream",
     "text": [
      "1/1 [==============================] - 10s 10s/step\n"
     ]
    }
   ],
   "source": [
    "y_pred_test = model.predict(X_seq_test, verbose=1, batch_size=1024)"
   ]
  },
  {
   "cell_type": "code",
   "execution_count": 51,
   "id": "46aa288b",
   "metadata": {},
   "outputs": [
    {
     "name": "stdout",
     "output_type": "stream",
     "text": [
      "Die Kartoffeln schälen und gar kochen.Während die Kartoffeln kochen, wird die Buttermilch erwärmt - aber langsam, da sie sehr schnell anbrennt. Man sollte erst 1/3 von der Buttermilch in einen Topf gießen und mit 1 EL Mehl das Ganze verquirlen, damit der Eintopf nicht zu dünn wird. Danach den Rest dazugießen. Wenn man mag, kann man 2-3 Lorbeerblätter und Pfefferkörner mit hineintun.Die Zwiebel schälen und klein schneiden. Ca. 200 g Speck würfeln. Erst den Speck schön in der Pfanne auslassen. Dann die Zwiebeln zugeben und so lange mitbraten, bis alles schön durch ist. Das Ganze dann in den Topf zu der Buttermilch geben.Sobald die Kartoffeln gar sind, abgießen und kurz umrühren. Dann auch einfach mit in den Topf geben und umrühren. Die Buttermilchkartoffeln werden nun noch mit Salz, Pfeffer und 2-3 EL Zucker abgeschmeckt. Dadurch wird das Gericht lieblich und süß-sauer.Dazu schmecken sehr gut Wiener Würstchen oder Knacker.\n",
      "\n",
      "['1 kg Kartoffel(n)', '1 Liter Buttermilch', '1 Zwiebel(n)', '200 g Speck', '3 Lorbeerblätter bei Bedarf', 'Salz und Pfeffer', '4 Würstchen (Wiener oder Knacker)', '1 EL Mehl', '3 EL Zucker', 'Pfeffer - Körner bei Bedarf']\n",
      "\n",
      "{'sie', 'Die', 'Topf', 'Pfefferkörner', 'Ca', 'nun', '.', 'zu', 'Knacker', 'Dadurch', 'damit', 'umrühren', 'Sobald', 'und', 'kann', 'Man', '1', 'hineintun', 'schön', 'dann', 'einen', 'schnell', 'klein', 'mitbraten', 'Dazu', 'den', 'Salz', 'geben', 'schmecken', 'aber', 'schneiden', 'das', 'Zucker', 'Eintopf', '-', 'gar', 'Kartoffeln', 'gießen', 'Würstchen', 'Pfanne', 'schälen', 'in', 'Rest', 'Zwiebel', 'Wenn', 'dünn', 'oder', 'gut', 'erwärmt', 'mit', 'Wiener', 'werden', 'durch', ',', 'da', 'langsam', 'Mehl', 'mag', 'Speck', 'kochen', 'Buttermilchkartoffeln', 'auslassen', 'ist', 'wird', 'Buttermilch', 'nicht', '200', 'erst', 'lange', 'Danach', 'Zwiebeln', 'Während', 'Pfeffer', 'kurz', 'sind', 'abgießen', 'lieblich', 'Gericht', 'von', '3', 'dazugießen', '2', 'alles', 'abgeschmeckt', '/', 'anbrennt', 'würfeln', 'verquirlen', 'sollte', 'man', 'auch', 'einfach', 'die', 'Das', 'noch', 'Dann', 'der', 'bis', 'süß-sauer', 'sehr', 'so', 'Erst', 'zugeben', 'g', 'Ganze', 'Lorbeerblätter', 'EL'}\n"
     ]
    }
   ],
   "source": [
    "i = 893\n",
    "pred_i = y_pred_test[i] > 0.05\n",
    "print(eval_tokenized[i])\n",
    "print()\n",
    "print(eval_ingredients[i])\n",
    "print()\n",
    "ingreds = [t.text for t, p in zip(eval_tokenized[i], pred_i) if p]\n",
    "print(set(ingreds))"
   ]
  },
  {
   "cell_type": "code",
   "execution_count": 52,
   "id": "cab96591",
   "metadata": {},
   "outputs": [
    {
     "name": "stdout",
     "output_type": "stream",
     "text": [
      "In einer großen Pfanne oder Topf Butter und Öl erhitzen. Den Wirsing kurz andünsten, 3 EL Wasser zugeben und abgedeckt unter häufigem Wenden weich dünsten. Mit Salz, Pfeffer und Muskat würzen. Abkühlen lassen.Eine Springform 26cm mit Blätterteig auskleiden, den Boden mit einer Gabel regelmäßig einstechen. Eier, Milch, Sahne und Käse verrühren, den Wirsing untermischen. In die Springform geben. Bei 170°C 35 bis 45 Minuten auf unterer Schiene backen, evtl. gegen Ende mit Pergamentpapier abdecken. Frisch aus dem Ofen servieren.\n",
      "\n",
      "['600 g Wirsing, geputzt und in Streifen geschnitten', '1 EL Butter', '1 EL Öl (Sonnenblumenöl)', 'Blätterteig, für 1 Springform 26 cm', '3 Ei(er)', '150 ml Milch', '100 ml Sahne', '100 g Bergkäse, gerieben', 'Salz', 'Pfeffer, schwarz aus der Mühle', 'Muskat']\n",
      "\n",
      "{'dem', 'Topf', 'kurz', 'dünsten', 'andünsten', '°', 'mit', 'auskleiden', 'Sahne', 'Gabel', 'C', 'backen', 'evtl.', 'untermischen', '.', 'In', 'Butter', '3', '35', '170', 'Milch', 'Schiene', 'Eine', 'Käse', 'Den', 'lassen', ',', 'regelmäßig', 'Frisch', 'Blätterteig', 'und', 'aus', 'abgedeckt', 'häufigem', 'cm', '26', '45', 'Pfeffer', 'die', 'unter', 'Abkühlen', 'Ende', 'Ofen', 'bis', 'einer', 'Boden', 'Pfanne', 'großen', 'unterer', 'Wirsing', 'Wenden', 'würzen', 'Eier', 'erhitzen', 'zugeben', 'den', 'gegen', 'Minuten', 'weich', 'Mit', 'servieren', 'Salz', 'Bei', 'Muskat', 'geben', 'abdecken', 'Springform', 'Pergamentpapier', 'Öl', 'verrühren', 'einstechen', 'oder', 'EL', 'Wasser', 'auf'}\n"
     ]
    }
   ],
   "source": [
    "i = 26\n",
    "pred_i = y_pred_test[i] > 0.05\n",
    "print(eval_tokenized[i])\n",
    "print()\n",
    "print(eval_ingredients[i])\n",
    "print()\n",
    "ingreds = [t.text for t, p in zip(eval_tokenized[i], pred_i) if p]\n",
    "print(set(ingreds))"
   ]
  }
 ],
 "metadata": {
  "kernelspec": {
   "display_name": "Python 3 (ipykernel)",
   "language": "python",
   "name": "python3"
  },
  "language_info": {
   "codemirror_mode": {
    "name": "ipython",
    "version": 3
   },
   "file_extension": ".py",
   "mimetype": "text/x-python",
   "name": "python",
   "nbconvert_exporter": "python",
   "pygments_lexer": "ipython3",
   "version": "3.9.5"
  }
 },
 "nbformat": 4,
 "nbformat_minor": 5
}
