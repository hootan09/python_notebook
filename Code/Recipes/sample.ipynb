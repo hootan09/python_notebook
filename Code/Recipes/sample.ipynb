{
 "cells": [
  {
   "cell_type": "code",
   "execution_count": 1,
   "id": "9e454c6f",
   "metadata": {},
   "outputs": [
    {
     "name": "stdout",
     "output_type": "stream",
     "text": [
      "['recipes.json', 'recipes1000.json']\n"
     ]
    }
   ],
   "source": [
    "import numpy as np\n",
    "import pandas as pd\n",
    "import matplotlib.pyplot as plt\n",
    "%matplotlib inline\n",
    "\n",
    "import os\n",
    "print(os.listdir(\"./input\"))"
   ]
  },
  {
   "cell_type": "code",
   "execution_count": 2,
   "id": "5ea049d2",
   "metadata": {},
   "outputs": [],
   "source": [
    "df = pd.read_json(\"./input/recipes.json\")"
   ]
  },
  {
   "cell_type": "code",
   "execution_count": 3,
   "id": "419fbb24",
   "metadata": {
    "scrolled": false
   },
   "outputs": [
    {
     "data": {
      "text/html": [
       "<div>\n",
       "<style scoped>\n",
       "    .dataframe tbody tr th:only-of-type {\n",
       "        vertical-align: middle;\n",
       "    }\n",
       "\n",
       "    .dataframe tbody tr th {\n",
       "        vertical-align: top;\n",
       "    }\n",
       "\n",
       "    .dataframe thead th {\n",
       "        text-align: right;\n",
       "    }\n",
       "</style>\n",
       "<table border=\"1\" class=\"dataframe\">\n",
       "  <thead>\n",
       "    <tr style=\"text-align: right;\">\n",
       "      <th></th>\n",
       "      <th>Url</th>\n",
       "      <th>Instructions</th>\n",
       "      <th>Ingredients</th>\n",
       "      <th>Day</th>\n",
       "      <th>Name</th>\n",
       "      <th>Year</th>\n",
       "      <th>Month</th>\n",
       "      <th>Weekday</th>\n",
       "    </tr>\n",
       "  </thead>\n",
       "  <tbody>\n",
       "    <tr>\n",
       "      <th>0</th>\n",
       "      <td>https://www.chefkoch.de/rezepte/185441079701305/</td>\n",
       "      <td>Die Eier hart kochen. Dann pellen und mit eine...</td>\n",
       "      <td>[600 g Hackfleisch, halb und halb, 800 g Sauer...</td>\n",
       "      <td>1</td>\n",
       "      <td>Gebratener Hasenrücken</td>\n",
       "      <td>2009</td>\n",
       "      <td>January</td>\n",
       "      <td>Thursday</td>\n",
       "    </tr>\n",
       "    <tr>\n",
       "      <th>1</th>\n",
       "      <td>https://www.chefkoch.de/rezepte/2718181424631245/</td>\n",
       "      <td>Vorab folgende Bemerkung: Alle Mengen sind Cir...</td>\n",
       "      <td>[1 kg Strauchtomate(n), 1 Gemüsezwiebel(n), 1 ...</td>\n",
       "      <td>1</td>\n",
       "      <td>Pilz Stroganoff</td>\n",
       "      <td>2017</td>\n",
       "      <td>July</td>\n",
       "      <td>Saturday</td>\n",
       "    </tr>\n",
       "    <tr>\n",
       "      <th>2</th>\n",
       "      <td>https://www.chefkoch.de/rezepte/46341015661368/</td>\n",
       "      <td>Die Kirschen abtropfen lassen, dabei den Saft ...</td>\n",
       "      <td>[1 Glas Kirsche(n), 1 Pck. Vanillepuddingpulve...</td>\n",
       "      <td>1</td>\n",
       "      <td>Kaninchen a la Gioff</td>\n",
       "      <td>2007</td>\n",
       "      <td>January</td>\n",
       "      <td>Monday</td>\n",
       "    </tr>\n",
       "    <tr>\n",
       "      <th>3</th>\n",
       "      <td>https://www.chefkoch.de/rezepte/51051018014178/</td>\n",
       "      <td>Den Spargel säubern, die holzigen Enden abschn...</td>\n",
       "      <td>[500 g Spargel, grüner, 300 ml Brühe oder Fond...</td>\n",
       "      <td>1</td>\n",
       "      <td>Spanisches Knoblauch-Kaninchen</td>\n",
       "      <td>2013</td>\n",
       "      <td>April</td>\n",
       "      <td>Monday</td>\n",
       "    </tr>\n",
       "    <tr>\n",
       "      <th>4</th>\n",
       "      <td>https://www.chefkoch.de/rezepte/1555771262860408/</td>\n",
       "      <td>Kohlrabi schälen und klein würfeln. Mit der Br...</td>\n",
       "      <td>[250 g Kohlrabi, 150 ml Gemüsebrühe, 150 ml Mi...</td>\n",
       "      <td>1</td>\n",
       "      <td>Gnocchi - Hack - Pfanne mit Basilikum</td>\n",
       "      <td>2017</td>\n",
       "      <td>August</td>\n",
       "      <td>Tuesday</td>\n",
       "    </tr>\n",
       "  </tbody>\n",
       "</table>\n",
       "</div>"
      ],
      "text/plain": [
       "                                                 Url  \\\n",
       "0   https://www.chefkoch.de/rezepte/185441079701305/   \n",
       "1  https://www.chefkoch.de/rezepte/2718181424631245/   \n",
       "2    https://www.chefkoch.de/rezepte/46341015661368/   \n",
       "3    https://www.chefkoch.de/rezepte/51051018014178/   \n",
       "4  https://www.chefkoch.de/rezepte/1555771262860408/   \n",
       "\n",
       "                                        Instructions  \\\n",
       "0  Die Eier hart kochen. Dann pellen und mit eine...   \n",
       "1  Vorab folgende Bemerkung: Alle Mengen sind Cir...   \n",
       "2  Die Kirschen abtropfen lassen, dabei den Saft ...   \n",
       "3  Den Spargel säubern, die holzigen Enden abschn...   \n",
       "4  Kohlrabi schälen und klein würfeln. Mit der Br...   \n",
       "\n",
       "                                         Ingredients  Day  \\\n",
       "0  [600 g Hackfleisch, halb und halb, 800 g Sauer...    1   \n",
       "1  [1 kg Strauchtomate(n), 1 Gemüsezwiebel(n), 1 ...    1   \n",
       "2  [1 Glas Kirsche(n), 1 Pck. Vanillepuddingpulve...    1   \n",
       "3  [500 g Spargel, grüner, 300 ml Brühe oder Fond...    1   \n",
       "4  [250 g Kohlrabi, 150 ml Gemüsebrühe, 150 ml Mi...    1   \n",
       "\n",
       "                                    Name  Year    Month   Weekday  \n",
       "0                 Gebratener Hasenrücken  2009  January  Thursday  \n",
       "1                        Pilz Stroganoff  2017     July  Saturday  \n",
       "2                   Kaninchen a la Gioff  2007  January    Monday  \n",
       "3         Spanisches Knoblauch-Kaninchen  2013    April    Monday  \n",
       "4  Gnocchi - Hack - Pfanne mit Basilikum  2017   August   Tuesday  "
      ]
     },
     "execution_count": 3,
     "metadata": {},
     "output_type": "execute_result"
    }
   ],
   "source": [
    "df.head(5)"
   ]
  },
  {
   "cell_type": "code",
   "execution_count": 4,
   "id": "e37b7d48",
   "metadata": {},
   "outputs": [
    {
     "name": "stdout",
     "output_type": "stream",
     "text": [
      "Number of Duplicated Rows:  192\n"
     ]
    },
    {
     "data": {
      "text/html": [
       "<div>\n",
       "<style scoped>\n",
       "    .dataframe tbody tr th:only-of-type {\n",
       "        vertical-align: middle;\n",
       "    }\n",
       "\n",
       "    .dataframe tbody tr th {\n",
       "        vertical-align: top;\n",
       "    }\n",
       "\n",
       "    .dataframe thead th {\n",
       "        text-align: right;\n",
       "    }\n",
       "</style>\n",
       "<table border=\"1\" class=\"dataframe\">\n",
       "  <thead>\n",
       "    <tr style=\"text-align: right;\">\n",
       "      <th></th>\n",
       "      <th>Url</th>\n",
       "      <th>Instructions</th>\n",
       "      <th>Ingredients</th>\n",
       "      <th>Day</th>\n",
       "      <th>Name</th>\n",
       "      <th>Year</th>\n",
       "      <th>Month</th>\n",
       "      <th>Weekday</th>\n",
       "    </tr>\n",
       "  </thead>\n",
       "  <tbody>\n",
       "    <tr>\n",
       "      <th>0</th>\n",
       "      <td>https://www.chefkoch.de/rezepte/185441079701305/</td>\n",
       "      <td>Die Eier hart kochen. Dann pellen und mit eine...</td>\n",
       "      <td>[600 g Hackfleisch, halb und halb, 800 g Sauer...</td>\n",
       "      <td>1</td>\n",
       "      <td>Gebratener Hasenrücken</td>\n",
       "      <td>2009</td>\n",
       "      <td>January</td>\n",
       "      <td>Thursday</td>\n",
       "    </tr>\n",
       "    <tr>\n",
       "      <th>1</th>\n",
       "      <td>https://www.chefkoch.de/rezepte/2718181424631245/</td>\n",
       "      <td>Vorab folgende Bemerkung: Alle Mengen sind Cir...</td>\n",
       "      <td>[1 kg Strauchtomate(n), 1 Gemüsezwiebel(n), 1 ...</td>\n",
       "      <td>1</td>\n",
       "      <td>Pilz Stroganoff</td>\n",
       "      <td>2017</td>\n",
       "      <td>July</td>\n",
       "      <td>Saturday</td>\n",
       "    </tr>\n",
       "    <tr>\n",
       "      <th>2</th>\n",
       "      <td>https://www.chefkoch.de/rezepte/46341015661368/</td>\n",
       "      <td>Die Kirschen abtropfen lassen, dabei den Saft ...</td>\n",
       "      <td>[1 Glas Kirsche(n), 1 Pck. Vanillepuddingpulve...</td>\n",
       "      <td>1</td>\n",
       "      <td>Kaninchen a la Gioff</td>\n",
       "      <td>2007</td>\n",
       "      <td>January</td>\n",
       "      <td>Monday</td>\n",
       "    </tr>\n",
       "    <tr>\n",
       "      <th>3</th>\n",
       "      <td>https://www.chefkoch.de/rezepte/51051018014178/</td>\n",
       "      <td>Den Spargel säubern, die holzigen Enden abschn...</td>\n",
       "      <td>[500 g Spargel, grüner, 300 ml Brühe oder Fond...</td>\n",
       "      <td>1</td>\n",
       "      <td>Spanisches Knoblauch-Kaninchen</td>\n",
       "      <td>2013</td>\n",
       "      <td>April</td>\n",
       "      <td>Monday</td>\n",
       "    </tr>\n",
       "    <tr>\n",
       "      <th>4</th>\n",
       "      <td>https://www.chefkoch.de/rezepte/1555771262860408/</td>\n",
       "      <td>Kohlrabi schälen und klein würfeln. Mit der Br...</td>\n",
       "      <td>[250 g Kohlrabi, 150 ml Gemüsebrühe, 150 ml Mi...</td>\n",
       "      <td>1</td>\n",
       "      <td>Gnocchi - Hack - Pfanne mit Basilikum</td>\n",
       "      <td>2017</td>\n",
       "      <td>August</td>\n",
       "      <td>Tuesday</td>\n",
       "    </tr>\n",
       "  </tbody>\n",
       "</table>\n",
       "</div>"
      ],
      "text/plain": [
       "                                                 Url  \\\n",
       "0   https://www.chefkoch.de/rezepte/185441079701305/   \n",
       "1  https://www.chefkoch.de/rezepte/2718181424631245/   \n",
       "2    https://www.chefkoch.de/rezepte/46341015661368/   \n",
       "3    https://www.chefkoch.de/rezepte/51051018014178/   \n",
       "4  https://www.chefkoch.de/rezepte/1555771262860408/   \n",
       "\n",
       "                                        Instructions  \\\n",
       "0  Die Eier hart kochen. Dann pellen und mit eine...   \n",
       "1  Vorab folgende Bemerkung: Alle Mengen sind Cir...   \n",
       "2  Die Kirschen abtropfen lassen, dabei den Saft ...   \n",
       "3  Den Spargel säubern, die holzigen Enden abschn...   \n",
       "4  Kohlrabi schälen und klein würfeln. Mit der Br...   \n",
       "\n",
       "                                         Ingredients  Day  \\\n",
       "0  [600 g Hackfleisch, halb und halb, 800 g Sauer...    1   \n",
       "1  [1 kg Strauchtomate(n), 1 Gemüsezwiebel(n), 1 ...    1   \n",
       "2  [1 Glas Kirsche(n), 1 Pck. Vanillepuddingpulve...    1   \n",
       "3  [500 g Spargel, grüner, 300 ml Brühe oder Fond...    1   \n",
       "4  [250 g Kohlrabi, 150 ml Gemüsebrühe, 150 ml Mi...    1   \n",
       "\n",
       "                                    Name  Year    Month   Weekday  \n",
       "0                 Gebratener Hasenrücken  2009  January  Thursday  \n",
       "1                        Pilz Stroganoff  2017     July  Saturday  \n",
       "2                   Kaninchen a la Gioff  2007  January    Monday  \n",
       "3         Spanisches Knoblauch-Kaninchen  2013    April    Monday  \n",
       "4  Gnocchi - Hack - Pfanne mit Basilikum  2017   August   Tuesday  "
      ]
     },
     "execution_count": 4,
     "metadata": {},
     "output_type": "execute_result"
    }
   ],
   "source": [
    "# Delete Duplicate Rows\n",
    "duplicate=df.drop_duplicates(['Name'],keep='first')\n",
    "print(\"Number of Duplicated Rows: \",len(duplicate))\n",
    "\n",
    "duplicate.head()"
   ]
  },
  {
   "cell_type": "code",
   "execution_count": 5,
   "id": "c16fe846",
   "metadata": {},
   "outputs": [
    {
     "data": {
      "text/html": [
       "<div>\n",
       "<style scoped>\n",
       "    .dataframe tbody tr th:only-of-type {\n",
       "        vertical-align: middle;\n",
       "    }\n",
       "\n",
       "    .dataframe tbody tr th {\n",
       "        vertical-align: top;\n",
       "    }\n",
       "\n",
       "    .dataframe thead th {\n",
       "        text-align: right;\n",
       "    }\n",
       "</style>\n",
       "<table border=\"1\" class=\"dataframe\">\n",
       "  <thead>\n",
       "    <tr style=\"text-align: right;\">\n",
       "      <th></th>\n",
       "      <th>Instructions</th>\n",
       "      <th>Ingredients</th>\n",
       "      <th>Name</th>\n",
       "    </tr>\n",
       "  </thead>\n",
       "  <tbody>\n",
       "    <tr>\n",
       "      <th>0</th>\n",
       "      <td>Die Eier hart kochen. Dann pellen und mit eine...</td>\n",
       "      <td>[600 g Hackfleisch, halb und halb, 800 g Sauer...</td>\n",
       "      <td>Gebratener Hasenrücken</td>\n",
       "    </tr>\n",
       "    <tr>\n",
       "      <th>1</th>\n",
       "      <td>Vorab folgende Bemerkung: Alle Mengen sind Cir...</td>\n",
       "      <td>[1 kg Strauchtomate(n), 1 Gemüsezwiebel(n), 1 ...</td>\n",
       "      <td>Pilz Stroganoff</td>\n",
       "    </tr>\n",
       "    <tr>\n",
       "      <th>2</th>\n",
       "      <td>Die Kirschen abtropfen lassen, dabei den Saft ...</td>\n",
       "      <td>[1 Glas Kirsche(n), 1 Pck. Vanillepuddingpulve...</td>\n",
       "      <td>Kaninchen a la Gioff</td>\n",
       "    </tr>\n",
       "    <tr>\n",
       "      <th>3</th>\n",
       "      <td>Den Spargel säubern, die holzigen Enden abschn...</td>\n",
       "      <td>[500 g Spargel, grüner, 300 ml Brühe oder Fond...</td>\n",
       "      <td>Spanisches Knoblauch-Kaninchen</td>\n",
       "    </tr>\n",
       "    <tr>\n",
       "      <th>4</th>\n",
       "      <td>Kohlrabi schälen und klein würfeln. Mit der Br...</td>\n",
       "      <td>[250 g Kohlrabi, 150 ml Gemüsebrühe, 150 ml Mi...</td>\n",
       "      <td>Gnocchi - Hack - Pfanne mit Basilikum</td>\n",
       "    </tr>\n",
       "  </tbody>\n",
       "</table>\n",
       "</div>"
      ],
      "text/plain": [
       "                                        Instructions  \\\n",
       "0  Die Eier hart kochen. Dann pellen und mit eine...   \n",
       "1  Vorab folgende Bemerkung: Alle Mengen sind Cir...   \n",
       "2  Die Kirschen abtropfen lassen, dabei den Saft ...   \n",
       "3  Den Spargel säubern, die holzigen Enden abschn...   \n",
       "4  Kohlrabi schälen und klein würfeln. Mit der Br...   \n",
       "\n",
       "                                         Ingredients  \\\n",
       "0  [600 g Hackfleisch, halb und halb, 800 g Sauer...   \n",
       "1  [1 kg Strauchtomate(n), 1 Gemüsezwiebel(n), 1 ...   \n",
       "2  [1 Glas Kirsche(n), 1 Pck. Vanillepuddingpulve...   \n",
       "3  [500 g Spargel, grüner, 300 ml Brühe oder Fond...   \n",
       "4  [250 g Kohlrabi, 150 ml Gemüsebrühe, 150 ml Mi...   \n",
       "\n",
       "                                    Name  \n",
       "0                 Gebratener Hasenrücken  \n",
       "1                        Pilz Stroganoff  \n",
       "2                   Kaninchen a la Gioff  \n",
       "3         Spanisches Knoblauch-Kaninchen  \n",
       "4  Gnocchi - Hack - Pfanne mit Basilikum  "
      ]
     },
     "execution_count": 5,
     "metadata": {},
     "output_type": "execute_result"
    }
   ],
   "source": [
    "# Remove unnecessary Column\n",
    "df = df.drop(['Day','Month','Url','Weekday','Year'],axis=1)\n",
    "\n",
    "df.head()"
   ]
  },
  {
   "cell_type": "code",
   "execution_count": 6,
   "id": "44b89492",
   "metadata": {},
   "outputs": [
    {
     "data": {
      "text/html": [
       "<div>\n",
       "<style scoped>\n",
       "    .dataframe tbody tr th:only-of-type {\n",
       "        vertical-align: middle;\n",
       "    }\n",
       "\n",
       "    .dataframe tbody tr th {\n",
       "        vertical-align: top;\n",
       "    }\n",
       "\n",
       "    .dataframe thead th {\n",
       "        text-align: right;\n",
       "    }\n",
       "</style>\n",
       "<table border=\"1\" class=\"dataframe\">\n",
       "  <thead>\n",
       "    <tr style=\"text-align: right;\">\n",
       "      <th></th>\n",
       "      <th>Instructions</th>\n",
       "      <th>Ingredients</th>\n",
       "      <th>Name</th>\n",
       "    </tr>\n",
       "  </thead>\n",
       "  <tbody>\n",
       "    <tr>\n",
       "      <th>0</th>\n",
       "      <td>Die Eier hart kochen. Dann pellen und mit eine...</td>\n",
       "      <td>600 g Hackfleisch, halb und halb 800 g Sauerkr...</td>\n",
       "      <td>Gebratener Hasenrücken</td>\n",
       "    </tr>\n",
       "    <tr>\n",
       "      <th>1</th>\n",
       "      <td>Vorab folgende Bemerkung: Alle Mengen sind Cir...</td>\n",
       "      <td>1 kg Strauchtomate(n) 1 Gemüsezwiebel(n) 1 Sal...</td>\n",
       "      <td>Pilz Stroganoff</td>\n",
       "    </tr>\n",
       "    <tr>\n",
       "      <th>2</th>\n",
       "      <td>Die Kirschen abtropfen lassen, dabei den Saft ...</td>\n",
       "      <td>1 Glas Kirsche(n) 1 Pck. Vanillepuddingpulver,...</td>\n",
       "      <td>Kaninchen a la Gioff</td>\n",
       "    </tr>\n",
       "    <tr>\n",
       "      <th>3</th>\n",
       "      <td>Den Spargel säubern, die holzigen Enden abschn...</td>\n",
       "      <td>500 g Spargel, grüner 300 ml Brühe oder Fond (...</td>\n",
       "      <td>Spanisches Knoblauch-Kaninchen</td>\n",
       "    </tr>\n",
       "    <tr>\n",
       "      <th>4</th>\n",
       "      <td>Kohlrabi schälen und klein würfeln. Mit der Br...</td>\n",
       "      <td>250 g Kohlrabi 150 ml Gemüsebrühe 150 ml Milch...</td>\n",
       "      <td>Gnocchi - Hack - Pfanne mit Basilikum</td>\n",
       "    </tr>\n",
       "  </tbody>\n",
       "</table>\n",
       "</div>"
      ],
      "text/plain": [
       "                                        Instructions  \\\n",
       "0  Die Eier hart kochen. Dann pellen und mit eine...   \n",
       "1  Vorab folgende Bemerkung: Alle Mengen sind Cir...   \n",
       "2  Die Kirschen abtropfen lassen, dabei den Saft ...   \n",
       "3  Den Spargel säubern, die holzigen Enden abschn...   \n",
       "4  Kohlrabi schälen und klein würfeln. Mit der Br...   \n",
       "\n",
       "                                         Ingredients  \\\n",
       "0  600 g Hackfleisch, halb und halb 800 g Sauerkr...   \n",
       "1  1 kg Strauchtomate(n) 1 Gemüsezwiebel(n) 1 Sal...   \n",
       "2  1 Glas Kirsche(n) 1 Pck. Vanillepuddingpulver,...   \n",
       "3  500 g Spargel, grüner 300 ml Brühe oder Fond (...   \n",
       "4  250 g Kohlrabi 150 ml Gemüsebrühe 150 ml Milch...   \n",
       "\n",
       "                                    Name  \n",
       "0                 Gebratener Hasenrücken  \n",
       "1                        Pilz Stroganoff  \n",
       "2                   Kaninchen a la Gioff  \n",
       "3         Spanisches Knoblauch-Kaninchen  \n",
       "4  Gnocchi - Hack - Pfanne mit Basilikum  "
      ]
     },
     "execution_count": 6,
     "metadata": {},
     "output_type": "execute_result"
    }
   ],
   "source": [
    "# Join Ingredients Array to Single String \n",
    "df['Ingredients'] = df['Ingredients'].apply(lambda x: ' '.join(x))\n",
    "\n",
    "df.head()"
   ]
  },
  {
   "cell_type": "code",
   "execution_count": 7,
   "id": "16d7ceed",
   "metadata": {},
   "outputs": [],
   "source": [
    "# Create Small Splited DataFrame & Save to json File (if You have weak CPU/GPU)\n",
    "\n",
    "df = df[:1000]\n",
    "df.to_json(r'./input/recipes1000.json')"
   ]
  },
  {
   "cell_type": "code",
   "execution_count": 8,
   "id": "ff915c74",
   "metadata": {},
   "outputs": [
    {
     "name": "stdout",
     "output_type": "stream",
     "text": [
      "we have 1000 Rows with 3 column Recipes\n"
     ]
    }
   ],
   "source": [
    "print(\"we have {} Rows with {} column Recipes\".format(df.shape[0], df.shape[1]))"
   ]
  },
  {
   "cell_type": "code",
   "execution_count": 9,
   "id": "cfc3bc3b",
   "metadata": {},
   "outputs": [],
   "source": [
    "# !python -m spacy download de_core_news_sm  #use it in First Run"
   ]
  },
  {
   "cell_type": "code",
   "execution_count": 10,
   "id": "5f146769",
   "metadata": {
    "scrolled": false
   },
   "outputs": [
    {
     "data": {
      "text/plain": [
       "'Die Eier hart kochen. Dann pellen und mit einem Eierschneider in Scheiben schneiden. Den Reis halbgar kochen und zur Seite stellen. Die Wurst (Kolbász) in dünne Scheiben schneiden.Den Knoblauch abziehen und fein würfeln. Die Zwiebel schälen, fein hacken und in etwas Fett glasig braten. Knoblauch und Hackfleisch dazu geben und so lange braten, bis das Hackfleisch schön krümelig wird. Den eigenen Saft nicht ganz verkochen lassen. Die Fleischmasse mit Salz, Pfeffer und Paprikapulver würzen.Das Sauerkraut kurz durchspülen, ausdrücken und abtropfen lassen (damit es nicht zu sauer wird). Das Sauerkraut in einen Topf geben und mit dem Kümmel und den Lorbeerblättern vermischen. Ca. 30 Minuten unter Zugabe von wenig Wasser bei niedriger Stufe dünsten.Eine feuerfeste Form mit etwas Öl einfetten und den Boden dünn mit Sauerkraut belegen. Darauf Kolbász und die Hälfte der in Scheiben geschnittene Eier verteilen, dann eine weitere dünne Schicht Sauerkraut drüber legen. Mit 1 Becher Schmand bedecken. Nun das Hackfleisch mit dem Reis mischen und auf der Sauerkrautschicht gleichmäßig verteilen. Mit der zweiten Hälfte der Eier belegen und die dritte Schicht Sauerkraut oben drauf verteilen. Wenn noch Zutaten (Hackfleisch-Reis-Masse und Sauerkraut) übrig sind, kann man diese Schichten weiter so legen. Ganz oben kommt eine Schicht Sauerkraut. Auf diese letzte Schicht verteilt man noch den Rest vom Schmand (sollte reichlich sein). Den Speck in dünne Scheiben schneiden und damit alles abdecken. Mit etwas Öl besprenkeln. Die Form mit einem Deckel verschließend.Im vorgeheizten Backofen bei 175°C ober-/Unterhitze gut 1 Std. garen.Ganz frische Baguettebrötchen oder Weißbrot schmeckt am allerbesten dazu. Man kann aber auch Kartoffel- oder Semmelknödel dazu reichen. Etwas aufwendig, aber die Mühe lohnt sich... es ist einfach mega-ober-lecker.Anmerkung: Für viele sind Eier in Verbindung mit Sauerkraut ein No-Go, man kann sie also auch weglassen.'"
      ]
     },
     "execution_count": 10,
     "metadata": {},
     "output_type": "execute_result"
    }
   ],
   "source": [
    "df.Instructions[0] #see What inside"
   ]
  },
  {
   "cell_type": "code",
   "execution_count": 11,
   "id": "389c4a43",
   "metadata": {},
   "outputs": [
    {
     "data": {
      "text/plain": [
       "(200, 3)"
      ]
     },
     "execution_count": 11,
     "metadata": {},
     "output_type": "execute_result"
    }
   ],
   "source": [
    "# get 200 for Validation TF Model\n",
    "eval_df = df[800:]\n",
    "eval_df.shape"
   ]
  },
  {
   "cell_type": "code",
   "execution_count": 12,
   "id": "f58a276c",
   "metadata": {},
   "outputs": [
    {
     "data": {
      "text/plain": [
       "(800, 3)"
      ]
     },
     "execution_count": 12,
     "metadata": {},
     "output_type": "execute_result"
    }
   ],
   "source": [
    "# get 3000 for train TF Model\n",
    "df = df[:800]\n",
    "df.shape"
   ]
  },
  {
   "cell_type": "code",
   "execution_count": 13,
   "id": "36986b6d",
   "metadata": {},
   "outputs": [],
   "source": [
    "import spacy\n",
    "nlp = spacy.load('de_core_news_sm' , disable=['parser', 'tagger', 'ner'])"
   ]
  },
  {
   "cell_type": "code",
   "execution_count": 14,
   "id": "dbaf1f79",
   "metadata": {},
   "outputs": [],
   "source": [
    "tokenized = [nlp(t) for t in df['Instructions'].values]"
   ]
  },
  {
   "cell_type": "code",
   "execution_count": 16,
   "id": "dde3c25e",
   "metadata": {},
   "outputs": [],
   "source": [
    "vocab = {}\n",
    "for txt in tokenized:\n",
    "    for token in txt:\n",
    "        if token.text not in vocab.keys() and len(token.text)> 2:\n",
    "            vocab[token.text] = len(vocab)"
   ]
  },
  {
   "cell_type": "code",
   "execution_count": 17,
   "id": "1832ae03",
   "metadata": {},
   "outputs": [
    {
     "name": "stdout",
     "output_type": "stream",
     "text": [
      "Number of unique tokens: 6365 for Instructions\n"
     ]
    }
   ],
   "source": [
    "print(\"Number of unique tokens: {} for Instructions\".format(len(vocab)))"
   ]
  },
  {
   "cell_type": "code",
   "execution_count": 18,
   "id": "8d82efbf",
   "metadata": {
    "scrolled": true
   },
   "outputs": [
    {
     "name": "stdout",
     "output_type": "stream",
     "text": [
      "600 g Hackfleisch, halb und halb 800 g Sauerkraut 200 g Wurst, geräucherte (Csabai Kolbász) 150 g Speck, durchwachsener, geräucherter 100 g Reis 1 m.-große Zwiebel(n) 1 Zehe/n Knoblauch 2 Becher Schmand 1/2TL Kümmel, ganzer 2 Lorbeerblätter Salz und Pfeffer 4 Ei(er) (bei Bedarf) Paprikapulver etwas Wasser Öl\n"
     ]
    }
   ],
   "source": [
    "#creating Labels\n",
    "ingredients = df.Ingredients\n",
    "\n",
    "print(ingredients[0])"
   ]
  },
  {
   "cell_type": "code",
   "execution_count": 19,
   "id": "5d3536d1",
   "metadata": {},
   "outputs": [],
   "source": [
    "# Clean & filter Each Ingredients\n",
    "\n",
    "def _filter(token):\n",
    "    if len(token) < 2:\n",
    "        return False\n",
    "    if token.is_stop:\n",
    "        return False\n",
    "    if token.text[0].islower():\n",
    "        return False\n",
    "    if token.is_digit:\n",
    "        return False\n",
    "    if token.like_num:\n",
    "        return False\n",
    "    return True\n",
    "\n",
    "def _clean(text):\n",
    "#     text = text.replace(\"(\", \"\") #Already Filtered\n",
    "#     text = text.replace(\")\", \"\") #Already Filtered\n",
    "    text = text.split(\"/\")[0]\n",
    "    return text"
   ]
  },
  {
   "cell_type": "code",
   "execution_count": 20,
   "id": "b7dff0eb",
   "metadata": {},
   "outputs": [
    {
     "data": {
      "text/plain": [
       "['Rosenkohl',\n",
       " 'Schalotte',\n",
       " '2Tasse',\n",
       " 'Hühnerbrühe',\n",
       " 'Milch',\n",
       " 'EL',\n",
       " 'Crème',\n",
       " 'Speck',\n",
       " 'Kartoffelgnocchi']"
      ]
     },
     "execution_count": 20,
     "metadata": {},
     "output_type": "execute_result"
    }
   ],
   "source": [
    "# sample clean ingredients[214]\n",
    "clean = [_clean(t.text) for t in nlp(ingredients[214]) if _filter(t) and len(_clean(t.text)) >= 2]\n",
    "clean"
   ]
  },
  {
   "cell_type": "code",
   "execution_count": 21,
   "id": "edd452f8",
   "metadata": {},
   "outputs": [],
   "source": [
    "def get_labels(ingredients, tokenized_instructions):\n",
    "    labels = []\n",
    "    for ing, ti in zip(ingredients, tokenized_instructions):\n",
    "        l_i = []\n",
    "        ci = [_clean(t.text) for t in nlp(ing) if _filter(t) and len(_clean(t.text)) >= 2]\n",
    "        label = []\n",
    "        for token in ti:\n",
    "            l_i.append(any((c == token.text or c == token.text[:-1] or c[:-1] == token.text) for c in ci))\n",
    "        labels.append(l_i)\n",
    "    return labels"
   ]
  },
  {
   "cell_type": "code",
   "execution_count": 22,
   "id": "88858b66",
   "metadata": {},
   "outputs": [
    {
     "data": {
      "text/plain": [
       "{'Crème', 'Hühnerbrühe', 'Milch', 'Rosenkohl', 'Schalotten', 'Speck'}"
      ]
     },
     "execution_count": 22,
     "metadata": {},
     "output_type": "execute_result"
    }
   ],
   "source": [
    "labels = get_labels(ingredients, tokenized)\n",
    "set([t.text for t, l in zip(tokenized[214], labels[214]) if l])"
   ]
  },
  {
   "cell_type": "code",
   "execution_count": 23,
   "id": "3d601796",
   "metadata": {},
   "outputs": [
    {
     "data": {
      "image/png": "[encoded data removed]",
      "text/plain": [
       "<Figure size 432x288 with 1 Axes>"
      ]
     },
     "metadata": {
      "needs_background": "light"
     },
     "output_type": "display_data"
    }
   ],
   "source": [
    "plt.hist([len([t for t in tokens]) for tokens in tokenized], bins=20);"
   ]
  },
  {
   "cell_type": "code",
   "execution_count": 24,
   "id": "e91e0ccf",
   "metadata": {},
   "outputs": [],
   "source": [
    "MAX_LEN = 400"
   ]
  },
  {
   "cell_type": "code",
   "execution_count": 25,
   "id": "7926a019",
   "metadata": {},
   "outputs": [],
   "source": [
    "from keras.preprocessing.sequence import pad_sequences\n",
    "\n",
    "def prepare_sequences(texts, max_len, vocab={}):\n",
    "    X = [list(filter(None,[vocab.get(w.text,None) for w in s])) for s in texts]\n",
    "    return pad_sequences(maxlen=max_len, sequences=X, padding=\"post\", value=0.0)"
   ]
  },
  {
   "cell_type": "code",
   "execution_count": 26,
   "id": "ff4a5336",
   "metadata": {},
   "outputs": [],
   "source": [
    "X_seq = prepare_sequences(tokenized, max_len=MAX_LEN, vocab=vocab)"
   ]
  },
  {
   "cell_type": "code",
   "execution_count": 27,
   "id": "5c1ee5bc",
   "metadata": {
    "scrolled": true
   },
   "outputs": [
    {
     "data": {
      "text/plain": [
       "array([  1,   2,   3,   4,   5,   6,   7,   8,   9,  10,  11,  12,  13,\n",
       "        14,   3,   6,  15,  16,  17,  18,  19,  20,  10,  11,  12,  21,\n",
       "        22,   6,  23,  24,  25,  26,  23,  27,   6,  28,  29,  30,  31,\n",
       "        21,   6,  32,  33,  34,   6,  35,  31,  36,  37,  32,  38,  39,\n",
       "        40,  12,  41,  42,  43,  44,  45,  46,  47,   7,  48,  49,   6,\n",
       "        50,  51,  52,  53,  54,  55,  56,   6,  57,  46,  58,  43,  59,\n",
       "        40,  52,  53,  60,  61,  34,   6,   7,  62,  63,   6,  64,  65,\n",
       "        66,  67,  68,  69,  70,  71,  72,  73,  74,  75,  76,  77,  78,\n",
       "        79,   7,  28,  80,   6,  64,  81,  82,   7,  53,  83,  84,  19,\n",
       "         6,  85,  86,  87,  10,  88,   1,  89,  90,  91,  92,  20,  93,\n",
       "        53,  94,  95,  96,  97,  98,  99, 100,  37,  32,   7,  62,  13,\n",
       "       101,   6, 102,  87, 103, 104,  89,  96,  87, 105,  86,  87,   1,\n",
       "        83,   6,  85, 106,  93,  53, 107, 108,  89, 109, 110, 111, 112,\n",
       "         6,  53, 113, 114, 115, 116, 117, 118, 119,  95, 120, 107, 121,\n",
       "        91,  93,  53, 122, 117, 123,  93, 124, 116, 110,  64, 125, 126,\n",
       "        98, 127, 128, 129,  12, 130,  20,  10,  11,   6,  58, 131, 132,\n",
       "        96,  28, 133,  79,   7,   8, 134, 135, 136, 137,  73, 138, 139,\n",
       "       140, 141, 142, 120, 143, 144, 145, 146, 147, 148,  33, 149, 115,\n",
       "       150, 151, 152, 145, 153,  33, 154, 155, 156, 150,  85, 157, 158,\n",
       "       159, 160, 161, 162, 163, 164, 165, 166, 114,   1, 167,   7,  53,\n",
       "       168, 169, 116, 115, 170, 171, 151, 172,   0,   0,   0,   0,   0,\n",
       "         0,   0,   0,   0,   0,   0,   0,   0,   0,   0,   0,   0,   0,\n",
       "         0,   0,   0,   0,   0,   0,   0,   0,   0,   0,   0,   0,   0,\n",
       "         0,   0,   0,   0,   0,   0,   0,   0,   0,   0,   0,   0,   0,\n",
       "         0,   0,   0,   0,   0,   0,   0,   0,   0,   0,   0,   0,   0,\n",
       "         0,   0,   0,   0,   0,   0,   0,   0,   0,   0,   0,   0,   0,\n",
       "         0,   0,   0,   0,   0,   0,   0,   0,   0,   0,   0,   0,   0,\n",
       "         0,   0,   0,   0,   0,   0,   0,   0,   0,   0,   0,   0,   0,\n",
       "         0,   0,   0,   0,   0,   0,   0,   0,   0,   0,   0,   0,   0,\n",
       "         0,   0,   0,   0,   0,   0,   0,   0,   0,   0,   0,   0,   0,\n",
       "         0,   0,   0,   0,   0,   0,   0,   0,   0,   0])"
      ]
     },
     "execution_count": 27,
     "metadata": {},
     "output_type": "execute_result"
    }
   ],
   "source": [
    "X_seq[0]"
   ]
  },
  {
   "cell_type": "code",
   "execution_count": 28,
   "id": "7fd56c0e",
   "metadata": {},
   "outputs": [],
   "source": [
    "y_seq = []\n",
    "for l in labels:\n",
    "    y_i = []\n",
    "    for i in range(MAX_LEN):\n",
    "        try:\n",
    "            y_i.append(float(l[i]))\n",
    "        except:\n",
    "            y_i.append(0.0)\n",
    "    y_seq.append(np.array(y_i))\n",
    "y_seq = np.array(y_seq)\n",
    "y_seq = y_seq.reshape(y_seq.shape[0], y_seq.shape[1], 1)"
   ]
  },
  {
   "cell_type": "code",
   "execution_count": 30,
   "id": "9342680b",
   "metadata": {},
   "outputs": [
    {
     "name": "stdout",
     "output_type": "stream",
     "text": [
      "2.7.0\n",
      "2.7.0\n"
     ]
    }
   ],
   "source": [
    "# ML with TensorFlow\n",
    "\n",
    "import tensorflow as tf\n",
    "from tensorflow.keras import layers\n",
    "\n",
    "print(tf.version.VERSION)\n",
    "print(tf.keras.__version__)"
   ]
  },
  {
   "cell_type": "code",
   "execution_count": 31,
   "id": "b1ea6964",
   "metadata": {},
   "outputs": [],
   "source": [
    "model = tf.keras.Sequential()\n",
    "model.add(layers.Embedding(input_dim=len(vocab), mask_zero=True, output_dim=50))\n",
    "model.add(layers.SpatialDropout1D(0.2))\n",
    "model.add(layers.Bidirectional(layers.LSTM(units=64, return_sequences=True)))\n",
    "model.add(layers.SpatialDropout1D(0.2))\n",
    "model.add(layers.Bidirectional(layers.LSTM(units=64, return_sequences=True)))\n",
    "model.add(layers.TimeDistributed(layers.Dense(1, activation='sigmoid')))"
   ]
  },
  {
   "cell_type": "code",
   "execution_count": 32,
   "id": "22bdc8ad",
   "metadata": {},
   "outputs": [],
   "source": [
    "model.compile(optimizer=tf.optimizers.Adam(0.001),\n",
    "              loss='binary_crossentropy',\n",
    "              metrics=['accuracy'])"
   ]
  },
  {
   "cell_type": "code",
   "execution_count": 33,
   "id": "19e68064",
   "metadata": {},
   "outputs": [
    {
     "name": "stdout",
     "output_type": "stream",
     "text": [
      "Model: \"sequential\"\n",
      "_________________________________________________________________\n",
      " Layer (type)                Output Shape              Param #   \n",
      "=================================================================\n",
      " embedding (Embedding)       (None, None, 50)          318250    \n",
      "                                                                 \n",
      " spatial_dropout1d (SpatialD  (None, None, 50)         0         \n",
      " ropout1D)                                                       \n",
      "                                                                 \n",
      " bidirectional (Bidirectiona  (None, None, 128)        58880     \n",
      " l)                                                              \n",
      "                                                                 \n",
      " spatial_dropout1d_1 (Spatia  (None, None, 128)        0         \n",
      " lDropout1D)                                                     \n",
      "                                                                 \n",
      " bidirectional_1 (Bidirectio  (None, None, 128)        98816     \n",
      " nal)                                                            \n",
      "                                                                 \n",
      " time_distributed (TimeDistr  (None, None, 1)          129       \n",
      " ibuted)                                                         \n",
      "                                                                 \n",
      "=================================================================\n",
      "Total params: 476,075\n",
      "Trainable params: 476,075\n",
      "Non-trainable params: 0\n",
      "_________________________________________________________________\n"
     ]
    }
   ],
   "source": [
    "model.summary()"
   ]
  },
  {
   "cell_type": "code",
   "execution_count": 34,
   "id": "24e26731",
   "metadata": {
    "scrolled": true
   },
   "outputs": [
    {
     "name": "stdout",
     "output_type": "stream",
     "text": [
      "Epoch 1/10\n",
      "3/3 [==============================] - 76s 21s/step - loss: 0.1847 - accuracy: 0.6714 - val_loss: 0.1855 - val_accuracy: 0.9065\n",
      "Epoch 2/10\n",
      "3/3 [==============================] - 53s 18s/step - loss: 0.1717 - accuracy: 0.9039 - val_loss: 0.1631 - val_accuracy: 0.9065\n",
      "Epoch 3/10\n",
      "3/3 [==============================] - 56s 19s/step - loss: 0.1444 - accuracy: 0.9039 - val_loss: 0.1154 - val_accuracy: 0.9065\n",
      "Epoch 4/10\n",
      "3/3 [==============================] - 58s 20s/step - loss: 0.0987 - accuracy: 0.9039 - val_loss: 0.0960 - val_accuracy: 0.9065\n",
      "Epoch 5/10\n",
      "3/3 [==============================] - 61s 21s/step - loss: 0.0989 - accuracy: 0.9039 - val_loss: 0.1013 - val_accuracy: 0.9065\n",
      "Epoch 6/10\n",
      "3/3 [==============================] - 62s 21s/step - loss: 0.0961 - accuracy: 0.9039 - val_loss: 0.0903 - val_accuracy: 0.9065\n",
      "Epoch 7/10\n",
      "3/3 [==============================] - 63s 21s/step - loss: 0.0874 - accuracy: 0.9039 - val_loss: 0.0889 - val_accuracy: 0.9065\n",
      "Epoch 8/10\n",
      "3/3 [==============================] - 65s 22s/step - loss: 0.0877 - accuracy: 0.9039 - val_loss: 0.0914 - val_accuracy: 0.9065\n",
      "Epoch 9/10\n",
      "3/3 [==============================] - 67s 23s/step - loss: 0.0890 - accuracy: 0.9039 - val_loss: 0.0906 - val_accuracy: 0.9065\n",
      "Epoch 10/10\n",
      "3/3 [==============================] - 66s 22s/step - loss: 0.0875 - accuracy: 0.9039 - val_loss: 0.0883 - val_accuracy: 0.9065\n"
     ]
    }
   ],
   "source": [
    "history = model.fit(X_seq, y_seq, epochs=10, batch_size=256, validation_split=0.1)"
   ]
  },
  {
   "cell_type": "code",
   "execution_count": 35,
   "id": "0af53433",
   "metadata": {
    "scrolled": true
   },
   "outputs": [
    {
     "data": {
      "image/png": "[encoded data removed]",
      "text/plain": [
       "<Figure size 432x288 with 1 Axes>"
      ]
     },
     "metadata": {
      "needs_background": "light"
     },
     "output_type": "display_data"
    }
   ],
   "source": [
    "plt.plot(history.history[\"loss\"], label=\"trn_loss\");\n",
    "plt.plot(history.history[\"val_loss\"], label=\"val_loss\");\n",
    "plt.legend();\n",
    "plt.title(\"Loss\");"
   ]
  },
  {
   "cell_type": "code",
   "execution_count": 36,
   "id": "084855b6",
   "metadata": {},
   "outputs": [
    {
     "data": {
      "image/png": "[encoded data removed]",
      "text/plain": [
       "<Figure size 432x288 with 1 Axes>"
      ]
     },
     "metadata": {
      "needs_background": "light"
     },
     "output_type": "display_data"
    }
   ],
   "source": [
    "plt.plot(history.history[\"accuracy\"], label=\"trn_acc\");\n",
    "plt.plot(history.history[\"val_accuracy\"], label=\"val_acc\");\n",
    "plt.legend();\n",
    "plt.title(\"Accuracy\");"
   ]
  },
  {
   "cell_type": "code",
   "execution_count": 37,
   "id": "43931bcf",
   "metadata": {},
   "outputs": [
    {
     "name": "stdout",
     "output_type": "stream",
     "text": [
      "1/1 [==============================] - 16s 16s/step\n"
     ]
    }
   ],
   "source": [
    "# Analyse the predictions of the model\n",
    "# Now that the model is trained, we can look at some predictions on the training set.\n",
    "y_pred = model.predict(X_seq, verbose=1, batch_size=1024)"
   ]
  },
  {
   "cell_type": "code",
   "execution_count": 38,
   "id": "76d97b24",
   "metadata": {},
   "outputs": [],
   "source": [
    "i = 343\n",
    "pred_i = y_pred[i] > 0.05"
   ]
  },
  {
   "cell_type": "code",
   "execution_count": 40,
   "id": "438a4d48",
   "metadata": {},
   "outputs": [
    {
     "data": {
      "text/plain": [
       "Das Rezept stammt von einer Chinareise aus der Stadt Chongqing.Zunächst den Boden des Wok großzügig mit Öl bedecken und dieses auf höchster Stufe erhitzen. Das Geschnetzelte rundherum mit Mehl bestäuben und im Wok scharf anbraten, dann salzen. Das Fleisch herausnehmen, evtl. etwas Öl nachgeben und die gehackten Erdnüsse leicht anbraten. Die Erdnüsse herausnehmen und die Zwiebeln anbraten. Anschließend den gehackten Knoblauch hinzugeben und ebenfalls anbraten. Die Frühlingszwiebeln und die Chilischoten in Streifen schneiden und hinzugeben. Den Zucker darüber streuen und karamellisieren lassen.Fleisch und Erdnüsse wieder hinzugeben. Mit Wein ablöschen, aufkochen lassen und den Essig hinzugeben. Abschließend mit Sojasauce, Ingwer und Pfeffer (gut zerkleinern, sehr intensiv!) würzen und abschmecken.Auf Reis servieren."
      ]
     },
     "execution_count": 40,
     "metadata": {},
     "output_type": "execute_result"
    }
   ],
   "source": [
    "tokenized[i]"
   ]
  },
  {
   "cell_type": "code",
   "execution_count": 41,
   "id": "600af267",
   "metadata": {
    "scrolled": true
   },
   "outputs": [
    {
     "name": "stdout",
     "output_type": "stream",
     "text": [
      "{'Boden', 'dieses', 'streuen', ')', '.', 'Geschnetzelte', 'Zwiebeln', 'Den', 'Frühlingszwiebeln', 'mit', 'Auf', 'aufkochen', 'Pfeffer', 'Die', 'Chilischoten', 'Stufe', 'intensiv', 'aus', 'Knoblauch', 'und', 'wieder', 'ebenfalls', 'Rezept', 'Sojasauce', 'bestäuben', 'rundherum', 'des', 'zerkleinern', 'Mit', 'Wein', 'Ingwer', 'Öl', 'Anschließend', 'Streifen', 'Essig', 'darüber', 'anbraten', 'Chongqing', '(', 'Reis', 'hinzugeben', 'schneiden', 'Fleisch', 'in', 'Das', 'auf', 'servieren', 'im', 'würzen', 'der', 'gut', 'Zucker', 'scharf', 'leicht', ',', 'einer', 'großzügig', 'karamellisieren', 'salzen', 'höchster', 'gehackten', 'den', 'stammt', 'Stadt', 'abschmecken', 'die', 'bedecken', 'lassen', '!', 'Chinareise', 'erhitzen', 'dann', 'herausnehmen', 'nachgeben', 'sehr', 'evtl.', 'Zunächst', 'Abschließend', 'Mehl', 'Erdnüsse', 'ablöschen', 'etwas', 'von', 'Wok'}\n"
     ]
    }
   ],
   "source": [
    "ingreds = [t.text for t, p in zip(tokenized[i], pred_i) if p]\n",
    "print(set(ingreds))"
   ]
  },
  {
   "cell_type": "code",
   "execution_count": 42,
   "id": "2bd99887",
   "metadata": {},
   "outputs": [
    {
     "data": {
      "text/plain": [
       "{'Chilischoten',\n",
       " 'Erdnüsse',\n",
       " 'Essig',\n",
       " 'Frühlingszwiebeln',\n",
       " 'Ingwer',\n",
       " 'Mehl',\n",
       " 'Sojasauce',\n",
       " 'Streifen',\n",
       " 'Zucker',\n",
       " 'Zwiebeln',\n",
       " 'Öl'}"
      ]
     },
     "execution_count": 42,
     "metadata": {},
     "output_type": "execute_result"
    }
   ],
   "source": [
    "ingreds = [t.text for t, p in zip(tokenized[i], y_seq[i]) if p]\n",
    "set(ingreds)"
   ]
  },
  {
   "cell_type": "code",
   "execution_count": 43,
   "id": "0bb0c59b",
   "metadata": {},
   "outputs": [
    {
     "data": {
      "text/plain": [
       "'400 g Hühnerfleisch, geschnetzelt 1 EL Mehl 50 g Erdnüsse, ungesalzen und ohne Schale 1 Zwiebel(n), in Streifen geschnitten 2 Knoblauchzehe(n) 1 Bund Frühlingszwiebel(n) 2 Chilischote(n) 25 g Zucker 50 ml Weißwein (Kochwein) 1 EL Essig 10 Szechuanpfeffer, zerstoßen 2 g Ingwer, gehackt 20 ml Sojasauce, süße Öl'"
      ]
     },
     "execution_count": 43,
     "metadata": {},
     "output_type": "execute_result"
    }
   ],
   "source": [
    "ingredients[i]"
   ]
  },
  {
   "cell_type": "code",
   "execution_count": 44,
   "id": "ed4910c8",
   "metadata": {},
   "outputs": [],
   "source": [
    "# This looks very good! Our model seems to be able to identify the ingredients better than our training labels.\n",
    "# So we now use the produced labels for fine-tuning the network.\n"
   ]
  },
  {
   "cell_type": "code",
   "execution_count": 45,
   "id": "e320ce51",
   "metadata": {},
   "outputs": [],
   "source": [
    "new_labels = []\n",
    "for pred_i, ti in zip(y_pred, tokenized):\n",
    "    l_i = []\n",
    "    ci = [t.text for t, p in zip(tokenized[i], pred_i > 0.05) if p]\n",
    "    label = []\n",
    "    for token in ti:\n",
    "        l_i.append(any((c == token.text or c == token.text[:-1] or c[:-1] == token.text) for c in ci))\n",
    "    new_labels.append(l_i)"
   ]
  },
  {
   "cell_type": "code",
   "execution_count": 46,
   "id": "5de315b7",
   "metadata": {},
   "outputs": [],
   "source": [
    "y_seq_new = []\n",
    "for l in new_labels:\n",
    "    y_i = []\n",
    "    for i in range(MAX_LEN):\n",
    "        try:\n",
    "            y_i.append(float(l[i]))\n",
    "        except:\n",
    "            y_i.append(0.0)\n",
    "    y_seq_new.append(np.array(y_i))\n",
    "y_seq_new = np.array(y_seq_new)\n",
    "y_seq_new = y_seq.reshape(y_seq_new.shape[0], y_seq_new.shape[1], 1)"
   ]
  },
  {
   "cell_type": "code",
   "execution_count": 47,
   "id": "b84743b2",
   "metadata": {
    "scrolled": true
   },
   "outputs": [
    {
     "name": "stdout",
     "output_type": "stream",
     "text": [
      "11/11 [==============================] - 309s 28s/step - loss: 0.1048 - accuracy: 0.9114 - val_loss: 0.1002 - val_accuracy: 0.9140\n"
     ]
    }
   ],
   "source": [
    "# We fit the network again for one epoch with the new labels.\n",
    "history = model.fit(X_seq, y_seq_new, epochs=1, batch_size=256, validation_split=0.1)"
   ]
  },
  {
   "cell_type": "code",
   "execution_count": 44,
   "id": "e7f4a9e7",
   "metadata": {},
   "outputs": [],
   "source": [
    "# Look at test data\n",
    "eval_ingredients = eval_df.Ingredients.values"
   ]
  },
  {
   "cell_type": "code",
   "execution_count": 45,
   "id": "847958af",
   "metadata": {},
   "outputs": [],
   "source": [
    "eval_tokenized = [nlp(t) for t in eval_df.Instructions.values]\n",
    "\n",
    "X_seq_test = prepare_sequences(eval_tokenized, max_len=MAX_LEN, vocab=vocab)"
   ]
  },
  {
   "cell_type": "code",
   "execution_count": 46,
   "id": "bbf7bbe7",
   "metadata": {},
   "outputs": [
    {
     "name": "stdout",
     "output_type": "stream",
     "text": [
      "1/1 [==============================] - 2s 2s/step\n"
     ]
    }
   ],
   "source": [
    "y_pred_test = model.predict(X_seq_test, verbose=1, batch_size=1024)"
   ]
  },
  {
   "cell_type": "code",
   "execution_count": 48,
   "id": "46aa288b",
   "metadata": {},
   "outputs": [
    {
     "name": "stdout",
     "output_type": "stream",
     "text": [
      "Rindfleisch waschen, mit Küchenpapier trockentupfen und in Gulaschwürfel schneiden. In einem Topf in heißem Schweineschmalz von allen Seiten anbraten, dabei vorsichtig umrühren.Zwiebeln und Knoblauch schälen. Zwiebeln grob, Knoblauch fein würfeln, zum Fleisch geben und bräunen. Das Mehl darüber stäuben und mit Fleisch und Zwiebeln verrühren. Mit der Fleischbrühe aufgießen. Mit Salz, Pfeffer, Majoran, Kümmel, Zucker und Paprika würzen. 40 Min. bei mittlerer Hitze kochen lassen.Kartoffeln schälen, waschen, abtropfen lassen und in Würfel schneiden. Paprikaschoten waschen, von Kernen und Scheidewänden befreien, in Würfel schneiden. Tomaten überbrühen, abziehen und in Würfel schneiden, dabei Kerne entfernen. Alles in die Suppe geben und nochmals 25 Min. kochen. Abschmecken, den Rotwein dazugießen, nicht mehr aufkochen.Die Gulaschsuppe mit Stangenweißbrot oder knusprigen Brötchen reichen. Dazu passt als Getränk ein kräftiger Rotwein oder auch ein Bier.Tipp: die Kartoffeln und Paprikaschoten in gleichmäßige kleine Würfel schneiden, das sieht schöner aus. Die Tomaten verkochen sowieso, da ist es egal.\n",
      "\n",
      "500 g Rindfleisch für Gulasch 60 g Schweineschmalz 250 g Zwiebel(n) 2 Knoblauchzehe(n) 1 EL Mehl 1 1/4Liter Fleischbrühe Salz und Pfeffer etwas Majoran etwas Kümmel 1 Prise(n) Zucker viel Paprikapulver, rosenscharf und edelsüß 250 g Kartoffel(n) 2 Paprikaschote(n), grün 5 Tomate(n) 1 Glas Wein, rot\n",
      "\n",
      "{'sowieso', 'Hitze', 'heißem', 'Rindfleisch', 'allen', 'da', '.', 'Suppe', 'Stangenweißbrot', 'Zwiebeln', 'mehr', 'egal', 'verrühren', 'mit', 'stäuben', 'Pfeffer', 'aufkochen', 'In', 'Gulaschsuppe', 'knusprigen', 'das', 'Die', 'grob', 'aus', 'Abschmecken', 'Knoblauch', 'schälen', 'und', 'kräftiger', 'trockentupfen', 'nicht', 'passt', 'Mit', 'Majoran', '40', 'Salz', 'aufgießen', 'darüber', 'anbraten', 'gleichmäßige', 'Dazu', ':', 'Gulaschwürfel', 'bei', 'Brötchen', 'bräunen', 'zum', 'Würfel', 'geben', 'Kernen', 'schneiden', 'auch', 'Bier', 'Fleisch', 'in', 'Das', 'Kartoffeln', 'reichen', 'Fleischbrühe', 'Min', 'verkochen', 'Topf', 'befreien', 'würzen', 'Getränk', 'Alles', 'Schweineschmalz', 'als', 'dazugießen', 'der', 'überbrühen', 'Tomaten', 'kleine', 'nochmals', 'Zucker', 'abziehen', 'schöner', 'ein', ',', 'einem', 'Scheidewänden', 'Paprikaschoten', 'vorsichtig', 'Paprika', 'sieht', 'kochen', 'den', 'oder', 'die', 'Kümmel', 'fein', 'lassen', 'umrühren', 'waschen', 'mittlerer', 'es', 'dabei', 'entfernen', 'abtropfen', 'ist', 'Kerne', 'Rotwein', 'Seiten', '25', 'Mehl', 'Tipp', 'würfeln', 'Küchenpapier', 'von'}\n"
     ]
    }
   ],
   "source": [
    "i = 93\n",
    "pred_i = y_pred_test[i] > 0.05\n",
    "print(eval_tokenized[i])\n",
    "print()\n",
    "print(eval_ingredients[i])\n",
    "print()\n",
    "ingreds = [t.text for t, p in zip(eval_tokenized[i], pred_i) if p]\n",
    "print(set(ingreds))"
   ]
  },
  {
   "cell_type": "code",
   "execution_count": 49,
   "id": "cab96591",
   "metadata": {},
   "outputs": [
    {
     "name": "stdout",
     "output_type": "stream",
     "text": [
      "Kürbisfleisch würfeln. Möhren schälen und würfeln. Zwiebel schälen und fein hacken. Petersilie waschen, trocken schütteln und grob hacken.Putenschnitzel in 8 Streifen schneiden, wellenförmig auf Holzspieße stecken und mit Salz, Pfeffer und Paprika würzen.1 EL Pflanzencreme in einem Topf erhitzen, Kürbis, Möhren und Zwiebel darin ca. 5 Minuten dünsten, Brühe dazugießen und im geschlossenen Topf ca. 25 Minuten kochen.Mit einem Kartoffelstampfer grob zerstampfen, Cremefine und Petersilie unterheben und mit Salz und Pfeffer abschmecken.Restliche Pflanzencreme in einer Pfanne erhitzen, Putenspieße darin knusprig braun braten.Energie- und Nährstoffgehalt:Pro Portion:Energie (kcal): 353Energie (kJ): 1469Eiweiß (g): 23Kohlenhydrate (g): 20Fett (g): 20\n",
      "\n",
      "500 g Kürbisfleisch 500 g Möhre(n) 1 Zwiebel(n) 1/2Bund Petersilie, glatte 400 g Putenschnitzel 3 EL RAMA Culinesse Pflanzencreme 250 ml Brühe, (Delikatessbrühe) 100 ml RAMA Cremefine zum Verfeinern Salz Pfeffer, frisch gemahlener Paprikapulver\n",
      "\n",
      "{'schütteln', 'Brühe', 'abschmecken', 'Restliche', 'Minuten', 'fein', '1469Eiweiß', 'auf', 'Zwiebel', 'Pfanne', 'Energie-', 'geschlossenen', 'Topf', 'Kürbisfleisch', 'knusprig', 'g', '.', 'im', 'Mit', '23Kohlenhydrate', 'waschen', 'erhitzen', 'dazugießen', 'Möhren', '20Fett', 'Cremefine', 'kJ', '5', 'Streifen', 'mit', 'EL', 'Pfeffer', 'ca.', 'Salz', 'stecken', 'trocken', 'würzen.1', 'Putenspieße', ',', 'einem', 'einer', 'braten', 'Portion', 'dünsten', 'grob', '25', ':', 'braun', '8', 'Paprika', '):', 'Kartoffelstampfer', 'Nährstoffgehalt', 'Putenschnitzel', 'hacken', 'darin', 'Holzspieße', 'zerstampfen', '(', 'Pro', 'Energie', 'würfeln', 'schälen', 'kochen', '353Energie', 'Petersilie', 'unterheben', 'schneiden', '20', 'Kürbis', 'und', 'Pflanzencreme', 'in', 'kcal', 'wellenförmig'}\n"
     ]
    }
   ],
   "source": [
    "i = 26\n",
    "pred_i = y_pred_test[i] > 0.05\n",
    "print(eval_tokenized[i])\n",
    "print()\n",
    "print(eval_ingredients[i])\n",
    "print()\n",
    "ingreds = [t.text for t, p in zip(eval_tokenized[i], pred_i) if p]\n",
    "print(set(ingreds))"
   ]
  }
 ],
 "metadata": {
  "kernelspec": {
   "display_name": "Python 3 (ipykernel)",
   "language": "python",
   "name": "python3"
  },
  "language_info": {
   "codemirror_mode": {
    "name": "ipython",
    "version": 3
   },
   "file_extension": ".py",
   "mimetype": "text/x-python",
   "name": "python",
   "nbconvert_exporter": "python",
   "pygments_lexer": "ipython3",
   "version": "3.9.5"
  }
 },
 "nbformat": 4,
 "nbformat_minor": 5
}
