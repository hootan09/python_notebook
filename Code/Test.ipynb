{
 "cells": [
  {
   "cell_type": "code",
   "execution_count": 3,
   "id": "a8f5e2eb-77f4-472d-b381-5270a4934cfd",
   "metadata": {},
   "outputs": [
    {
     "name": "stdout",
     "output_type": "stream",
     "text": [
      "Mon Aug 14 15:19:12 2023       \n",
      "+---------------------------------------------------------------------------------------+\n",
      "| NVIDIA-SMI 536.67                 Driver Version: 536.67       CUDA Version: 12.2     |\n",
      "|-----------------------------------------+----------------------+----------------------+\n",
      "| GPU  Name                     TCC/WDDM  | Bus-Id        Disp.A | Volatile Uncorr. ECC |\n",
      "| Fan  Temp   Perf          Pwr:Usage/Cap |         Memory-Usage | GPU-Util  Compute M. |\n",
      "|                                         |                      |               MIG M. |\n",
      "|=========================================+======================+======================|\n",
      "|   0  NVIDIA GeForce GTX 1070 Ti   WDDM  | 00000000:01:00.0  On |                  N/A |\n",
      "|  0%   56C    P0              51W / 180W |   2592MiB /  8192MiB |      0%      Default |\n",
      "|                                         |                      |                  N/A |\n",
      "+-----------------------------------------+----------------------+----------------------+\n",
      "                                                                                         \n",
      "+---------------------------------------------------------------------------------------+\n",
      "| Processes:                                                                            |\n",
      "|  GPU   GI   CI        PID   Type   Process name                            GPU Memory |\n",
      "|        ID   ID                                                             Usage      |\n",
      "|=======================================================================================|\n",
      "|    0   N/A  N/A      3908    C+G   ...CBS_cw5n1h2txyewy\\TextInputHost.exe    N/A      |\n",
      "|    0   N/A  N/A      4168    C+G   ...rograms\\Python\\Python310\\python.exe    N/A      |\n",
      "|    0   N/A  N/A      4688    C+G   ...siveControlPanel\\SystemSettings.exe    N/A      |\n",
      "|    0   N/A  N/A      6544    C+G   ...nt.CBS_cw5n1h2txyewy\\SearchHost.exe    N/A      |\n",
      "|    0   N/A  N/A      7332    C+G   C:\\Windows\\explorer.exe                   N/A      |\n",
      "|    0   N/A  N/A      8252    C+G   ...2txyewy\\StartMenuExperienceHost.exe    N/A      |\n",
      "|    0   N/A  N/A     10572    C+G   ...m Files\\Mozilla Firefox\\firefox.exe    N/A      |\n",
      "|    0   N/A  N/A     12120    C+G   ...__8wekyb3d8bbwe\\WindowsTerminal.exe    N/A      |\n",
      "|    0   N/A  N/A     12256    C+G   ...5n1h2txyewy\\ShellExperienceHost.exe    N/A      |\n",
      "|    0   N/A  N/A     12392    C+G   ...n\\115.0.1901.203\\msedgewebview2.exe    N/A      |\n",
      "|    0   N/A  N/A     12964    C+G   ...m Files\\Mozilla Firefox\\firefox.exe    N/A      |\n",
      "+---------------------------------------------------------------------------------------+\n"
     ]
    }
   ],
   "source": [
    "!nvidia-smi"
   ]
  },
  {
   "cell_type": "code",
   "execution_count": 1,
   "id": "943950db-43fc-4ae1-b3d5-c9c2ba929894",
   "metadata": {},
   "outputs": [
    {
     "name": "stdout",
     "output_type": "stream",
     "text": [
      "tensorFlow version:  2.10.0\n",
      "GPU:  [PhysicalDevice(name='/physical_device:GPU:0', device_type='GPU')]\n"
     ]
    }
   ],
   "source": [
    "import tensorflow as tf\n",
    "import time\n",
    "print('tensorFlow version: ',tf.__version__)\n",
    "print('GPU: ',tf.config.list_physical_devices('GPU'))"
   ]
  },
  {
   "cell_type": "code",
   "execution_count": 2,
   "id": "2082d252-f861-4e28-ba73-96b45b3bbdcc",
   "metadata": {},
   "outputs": [
    {
     "name": "stdout",
     "output_type": "stream",
     "text": [
      "CPU time: 4.96 seconds\n",
      "GPU time: 0.28 seconds\n"
     ]
    }
   ],
   "source": [
    "# Define the computation graph\n",
    "# x = tf.constant(1.0, shape=[10000, 10000])\n",
    "# y = tf.constant(2.0, shape=[10000, 10000])\n",
    "# z = tf.matmul(x, y)\n",
    "\n",
    "# Run the computation graph on a CPU\n",
    "with tf.device('/CPU:0'):\n",
    "    start_time = time.time()\n",
    "    x = tf.constant(1.0, shape=[10000, 10000])\n",
    "    y = tf.constant(2.0, shape=[10000, 10000])\n",
    "    z = tf.matmul(x, y)\n",
    "    end_time = time.time()\n",
    "\n",
    "print('CPU time: {:.2f} seconds'.format(end_time - start_time))\n",
    "\n",
    "# Run the computation graph on a GPU\n",
    "with tf.device('/GPU:0'):\n",
    "    start_time = time.time()\n",
    "    x = tf.constant(1.0, shape=[10000, 10000])\n",
    "    y = tf.constant(2.0, shape=[10000, 10000])\n",
    "    z = tf.matmul(x, y)\n",
    "    end_time = time.time()\n",
    "\n",
    "print('GPU time: {:.2f} seconds'.format(end_time - start_time))\n"
   ]
  },
  {
   "cell_type": "code",
   "execution_count": 1,
   "id": "8c0d443b-69d0-4e0b-819d-13dfb0355820",
   "metadata": {},
   "outputs": [
    {
     "name": "stdout",
     "output_type": "stream",
     "text": [
      "torch cuda Device count:  1\n",
      "torch current device:  0\n",
      "<torch.cuda.device object at 0x0000027B4F926CE0>\n",
      "torch cuda device name:  NVIDIA GeForce GTX 1070 Ti\n"
     ]
    }
   ],
   "source": [
    "# for torch gpu test\n",
    ">>> import torch\n",
    "print('torch cuda Device count: ',torch.cuda.device_count())\n",
    "print('torch current device: ',torch.cuda.current_device())\n",
    "print(torch.cuda.device(0))\n",
    "print('torch cuda device name: ',torch.cuda.get_device_name(0))"
   ]
  },
  {
   "cell_type": "code",
   "execution_count": null,
   "id": "9cf3391c-7ba5-4d5d-9449-5e6a64fedd6e",
   "metadata": {},
   "outputs": [],
   "source": []
  }
 ],
 "metadata": {
  "kernelspec": {
   "display_name": "Python 3 (ipykernel)",
   "language": "python",
   "name": "python3"
  },
  "language_info": {
   "codemirror_mode": {
    "name": "ipython",
    "version": 3
   },
   "file_extension": ".py",
   "mimetype": "text/x-python",
   "name": "python",
   "nbconvert_exporter": "python",
   "pygments_lexer": "ipython3",
   "version": "3.10.11"
  }
 },
 "nbformat": 4,
 "nbformat_minor": 5
}
