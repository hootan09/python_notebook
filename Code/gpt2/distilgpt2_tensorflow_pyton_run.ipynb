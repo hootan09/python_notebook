{
 "cells": [
  {
   "cell_type": "code",
   "execution_count": 1,
   "id": "1d4a27f5-b8d8-4752-8321-f393f8499e4e",
   "metadata": {},
   "outputs": [],
   "source": [
    "from transformers import GPT2Tokenizer, TFGPT2LMHeadModel\n",
    "import tensorflow as tf\n",
    "# Hide GPU from visible devices\n",
    "tf.config.set_visible_devices([], 'GPU')\n",
    "tokenizer = GPT2Tokenizer.from_pretrained('distilgpt2')"
   ]
  },
  {
   "cell_type": "code",
   "execution_count": 2,
   "id": "19dd8930-8f46-4743-bbc7-cc8fa61a185b",
   "metadata": {},
   "outputs": [
    {
     "name": "stderr",
     "output_type": "stream",
     "text": [
      "All PyTorch model weights were used when initializing TFGPT2LMHeadModel.\n",
      "\n",
      "All the weights of TFGPT2LMHeadModel were initialized from the PyTorch model.\n",
      "If your task is similar to the task the model of the checkpoint was trained on, you can already use TFGPT2LMHeadModel for predictions without further training.\n"
     ]
    }
   ],
   "source": [
    "model = TFGPT2LMHeadModel.from_pretrained('distilgpt2',pad_token_id=tokenizer.eos_token_id)"
   ]
  },
  {
   "cell_type": "code",
   "execution_count": 3,
   "id": "7ced6d79-6e00-4e65-ac86-ea92e1efae0f",
   "metadata": {},
   "outputs": [
    {
     "data": {
      "text/plain": [
       "{'input_ids': <tf.Tensor: shape=(1, 6), dtype=int32, numpy=array([[  489,    64,   278, 10047,   318,   257]])>, 'attention_mask': <tf.Tensor: shape=(1, 6), dtype=int32, numpy=array([[1, 1, 1, 1, 1, 1]])>}"
      ]
     },
     "execution_count": 3,
     "metadata": {},
     "output_type": "execute_result"
    }
   ],
   "source": [
    "text = \"plaing guitar is a\"\n",
    "encoded_input = tokenizer(text, return_tensors='tf')\n",
    "encoded_input\n",
    "# encoded_input.input_ids\n",
    "# encoded_input.attention_mask"
   ]
  },
  {
   "cell_type": "code",
   "execution_count": 4,
   "id": "2af296b3-ada7-4d01-8731-440d9a3fa24a",
   "metadata": {},
   "outputs": [],
   "source": [
    "\n",
    "output = model.generate(\n",
    "    **encoded_input, \n",
    "    max_new_tokens=40,\n",
    "    temperature=0.7,\n",
    "    # num_beams=5,\n",
    "    no_repeat_ngram_size=2,\n",
    "    # num_return_sequences=5,\n",
    "    early_stopping=True,\n",
    "    do_sample=True,\n",
    "    top_k=50,\n",
    "    top_p=0.95,\n",
    ")"
   ]
  },
  {
   "cell_type": "code",
   "execution_count": 6,
   "id": "c4eb9300-6e33-4124-a322-6ddd75118c80",
   "metadata": {},
   "outputs": [
    {
     "data": {
      "text/plain": [
       "<tf.Tensor: shape=(44,), dtype=int32, numpy=\n",
       "array([  489,    64,   278, 10047,   318,   257,   845,  3665, 10047,\n",
       "          13,   632,   318,   407,   655,   257, 10047,    11,   340,\n",
       "         318,   635,   257,   922,  8875,   329,  8680,   284,   262,\n",
       "        2647,    13,   383, 10047,   468,   257,  1049,  2694,   284,\n",
       "         711, 10047,   290,   318,   845, 21362,    13, 50256])>"
      ]
     },
     "execution_count": 6,
     "metadata": {},
     "output_type": "execute_result"
    }
   ],
   "source": [
    "output[0]"
   ]
  },
  {
   "cell_type": "code",
   "execution_count": 7,
   "id": "702f649d-be8c-4e8d-b5d9-e86ce188bbed",
   "metadata": {},
   "outputs": [
    {
     "data": {
      "text/plain": [
       "'plaing guitar is a very powerful guitar. It is not just a guitar, it is also a good instrument for listening to the music. The guitar has a great ability to play guitar and is very versatile.<|endoftext|>'"
      ]
     },
     "execution_count": 7,
     "metadata": {},
     "output_type": "execute_result"
    }
   ],
   "source": [
    "tokenizer.decode(output[0])"
   ]
  },
  {
   "cell_type": "code",
   "execution_count": null,
   "id": "b691f88e-1f94-4454-a651-279f9f592bc0",
   "metadata": {},
   "outputs": [],
   "source": []
  }
 ],
 "metadata": {
  "kernelspec": {
   "display_name": "Python 3 (ipykernel)",
   "language": "python",
   "name": "python3"
  },
  "language_info": {
   "codemirror_mode": {
    "name": "ipython",
    "version": 3
   },
   "file_extension": ".py",
   "mimetype": "text/x-python",
   "name": "python",
   "nbconvert_exporter": "python",
   "pygments_lexer": "ipython3",
   "version": "3.10.11"
  }
 },
 "nbformat": 4,
 "nbformat_minor": 5
}
