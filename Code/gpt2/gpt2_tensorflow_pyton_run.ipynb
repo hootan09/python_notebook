{
 "cells": [
  {
   "cell_type": "code",
   "execution_count": 12,
   "id": "1d4a27f5-b8d8-4752-8321-f393f8499e4e",
   "metadata": {},
   "outputs": [],
   "source": [
    "from transformers import GPT2Tokenizer, TFGPT2LMHeadModel\n",
    "import tensorflow as tf\n",
    "# Hide GPU from visible devices\n",
    "tf.config.set_visible_devices([], 'GPU')\n",
    "tokenizer = GPT2Tokenizer.from_pretrained('gpt2')"
   ]
  },
  {
   "cell_type": "code",
   "execution_count": 35,
   "id": "19dd8930-8f46-4743-bbc7-cc8fa61a185b",
   "metadata": {},
   "outputs": [
    {
     "name": "stderr",
     "output_type": "stream",
     "text": [
      "All PyTorch model weights were used when initializing TFGPT2LMHeadModel.\n",
      "\n",
      "All the weights of TFGPT2LMHeadModel were initialized from the PyTorch model.\n",
      "If your task is similar to the task the model of the checkpoint was trained on, you can already use TFGPT2LMHeadModel for predictions without further training.\n"
     ]
    }
   ],
   "source": [
    "model = TFGPT2LMHeadModel.from_pretrained('gpt2',pad_token_id=tokenizer.eos_token_id)"
   ]
  },
  {
   "cell_type": "code",
   "execution_count": 67,
   "id": "2af296b3-ada7-4d01-8731-440d9a3fa24a",
   "metadata": {},
   "outputs": [],
   "source": [
    "text = \"tesla was the first electrical enginer that\"\n",
    "encoded_input = tokenizer(text, return_tensors='tf')\n",
    "output = model.generate(\n",
    "    **encoded_input, \n",
    "    max_new_tokens=40,\n",
    "    temperature=0.7,\n",
    "    # num_beams=5,\n",
    "    # no_repeat_ngram_size=2,\n",
    "    # num_return_sequences=5,\n",
    "    # early_stopping=True,\n",
    "    do_sample=True,\n",
    "    top_k=50,\n",
    "    top_p=0.95,\n",
    ")"
   ]
  },
  {
   "cell_type": "code",
   "execution_count": 55,
   "id": "c4eb9300-6e33-4124-a322-6ddd75118c80",
   "metadata": {},
   "outputs": [
    {
     "data": {
      "text/plain": [
       "<tf.Tensor: shape=(1, 50), dtype=int32, numpy=\n",
       "array([[ 4879,  5031,   373,   262,   717, 12278,   551,  1655,   263,\n",
       "          326,   550,  1683,   587,   973,   287,   262,   471,    13,\n",
       "           50,    13,  5407,    13,   198,   198,     1,  1026,   373,\n",
       "          257,   845,  1593,  3704,   286,  5112,   329,   262,  5407,\n",
       "          553,   339,   531,    13,   366,  1026,  2921,   514,   257,\n",
       "         1256,   286,  1321,   546,   262]])>"
      ]
     },
     "execution_count": 55,
     "metadata": {},
     "output_type": "execute_result"
    }
   ],
   "source": [
    "output"
   ]
  },
  {
   "cell_type": "code",
   "execution_count": 68,
   "id": "702f649d-be8c-4e8d-b5d9-e86ce188bbed",
   "metadata": {},
   "outputs": [
    {
     "data": {
      "text/plain": [
       "'tesla was the first electrical enginer that had been installed in the South Bronx during the summer of 1962. He had spent the next two years working on a new electrical system.\\n\\nOn the morning of May 12, 1962, the first'"
      ]
     },
     "execution_count": 68,
     "metadata": {},
     "output_type": "execute_result"
    }
   ],
   "source": [
    "tokenizer.decode(output[0])"
   ]
  },
  {
   "cell_type": "code",
   "execution_count": null,
   "id": "b691f88e-1f94-4454-a651-279f9f592bc0",
   "metadata": {},
   "outputs": [],
   "source": []
  }
 ],
 "metadata": {
  "kernelspec": {
   "display_name": "Python 3 (ipykernel)",
   "language": "python",
   "name": "python3"
  },
  "language_info": {
   "codemirror_mode": {
    "name": "ipython",
    "version": 3
   },
   "file_extension": ".py",
   "mimetype": "text/x-python",
   "name": "python",
   "nbconvert_exporter": "python",
   "pygments_lexer": "ipython3",
   "version": "3.10.11"
  }
 },
 "nbformat": 4,
 "nbformat_minor": 5
}
