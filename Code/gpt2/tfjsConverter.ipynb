{
 "cells": [
  {
   "cell_type": "code",
   "execution_count": null,
   "id": "2f98fc63-8c56-4264-ba16-cac996f11294",
   "metadata": {},
   "outputs": [],
   "source": [
    " # pip install tensorflowjs"
   ]
  },
  {
   "cell_type": "markdown",
   "id": "5714fbe3-6cd9-4d73-9e28-2dd3dda3c65f",
   "metadata": {},
   "source": [
    "# Step 1. **Convert an existing TensorFlow model to the TensorFlow.js web format**\n",
    "\n",
    "Run the converter script provided by the pip package:\n",
    "\n",
    "#### **SavedModel example:**\n",
    "\n",
    "```python\n",
    "tensorflowjs_converter \\\n",
    "    --input_format=tf_saved_model \\\n",
    "    --output_node_names='MobilenetV1/Predictions/Reshape_1' \\\n",
    "    --saved_model_tags=serve \\\n",
    "    /mobilenet/saved_model \\\n",
    "    /mobilenet/web_model\n",
    "```\n",
    "\n",
    "#### **Frozen model example:**\n",
    "\n",
    "```python\n",
    "tensorflowjs_converter \\\n",
    "    --input_format=tf_frozen_model \\\n",
    "    --output_node_names='MobilenetV1/Predictions/Reshape_1' \\\n",
    "    /mobilenet/frozen_model.pb \\\n",
    "    /mobilenet/web_model\n",
    "```\n",
    "\n",
    "#### **Tensorflow Hub module example:**\n",
    "\n",
    "```python\n",
    "tensorflowjs_converter \\\n",
    "    --input_format=tf_hub \\\n",
    "    'https://tfhub.dev/google/imagenet/mobilenet_v1_100_224/classification/1' \\\n",
    "    /mobilenet/web_model\n",
    "```\n",
    "\n",
    "#### **--input_format** \t\n",
    "The format of input model. Use tf_saved_model for SavedModel, tf_frozen_model for frozen model, tf_session_bundle for session bundle, tf_hub for TensorFlow Hub module and keras for Keras HDF5.\n",
    "\n",
    "#### **--output_node_names** \t\n",
    "The names of the output nodes, separated by commas.\n",
    "\n",
    "#### **--saved_model_tags** \t\n",
    "Only applicable to SavedModel conversion. Tags of the MetaGraphDef to load, in comma separated format. Defaults to serve.\n",
    "\n",
    "#### **--signature_name** \t\n",
    "Only applicable to TensorFlow Hub module conversion, signature to load. Defaults to default. See https://www.tensorflow.org/hub/common_signatures/\n",
    "\n",
    "### Use following command to get a detailed help message:\n",
    "\n",
    "```python\n",
    "tensorflowjs_converter --help\n",
    "```"
   ]
  },
  {
   "cell_type": "code",
   "execution_count": 2,
   "id": "ee99bd86-9f1c-4c19-a3be-17e77b6f0b6d",
   "metadata": {},
   "outputs": [
    {
     "name": "stdout",
     "output_type": "stream",
     "text": [
      "Writing weight file ./test_gpt2_web_model\\model.json...\n"
     ]
    }
   ],
   "source": [
    "!tensorflowjs_converter \\\n",
    "    --input_format=tf_saved_model \\\n",
    "    --output_node_names='gpt2' \\\n",
    "    --saved_model_tags=serve \\\n",
    "    ./test_gpt2 \\\n",
    "    ./test_gpt2_web_model"
   ]
  },
  {
   "cell_type": "code",
   "execution_count": null,
   "id": "4f14aaab-919b-459a-8c85-263355a8f4e9",
   "metadata": {},
   "outputs": [],
   "source": []
  }
 ],
 "metadata": {
  "kernelspec": {
   "display_name": "Python 3 (ipykernel)",
   "language": "python",
   "name": "python3"
  },
  "language_info": {
   "codemirror_mode": {
    "name": "ipython",
    "version": 3
   },
   "file_extension": ".py",
   "mimetype": "text/x-python",
   "name": "python",
   "nbconvert_exporter": "python",
   "pygments_lexer": "ipython3",
   "version": "3.10.11"
  }
 },
 "nbformat": 4,
 "nbformat_minor": 5
}
