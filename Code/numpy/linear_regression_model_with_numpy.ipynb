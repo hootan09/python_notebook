{
 "cells": [
  {
   "cell_type": "markdown",
   "id": "7e565073-f781-46d4-aec6-0ef884ff793c",
   "metadata": {},
   "source": [
    "# Linear Regression only with Numpy"
   ]
  },
  {
   "cell_type": "code",
   "execution_count": 49,
   "id": "6f33b2a4-bd80-4a82-9632-7c17f202fabe",
   "metadata": {},
   "outputs": [],
   "source": [
    "import numpy as np"
   ]
  },
  {
   "cell_type": "markdown",
   "id": "ad7188ca-e1a2-461b-9899-5845f6f6a0cb",
   "metadata": {},
   "source": [
    "##### Note: np.random.randn generates samples from the normal distribution\n",
    "##### while np.random.rand from a uniform distribution (in the range [0,1)) "
   ]
  },
  {
   "cell_type": "markdown",
   "id": "c690e820-5361-4176-bd75-bdbd741aabe7",
   "metadata": {},
   "source": [
    "# Simple linear regression y = b + w*x + epsilon"
   ]
  },
  {
   "cell_type": "code",
   "execution_count": 50,
   "id": "6ac19174-e1b1-460d-b4fc-450ad35ac654",
   "metadata": {},
   "outputs": [],
   "source": [
    "#creating x,y\n",
    "\n",
    "true_b = 1\n",
    "true_w = 2\n",
    "N = 100\n",
    "# Data Generation\n",
    "np.random.seed(42)\n",
    "x = np.random.rand(N, 1)\n",
    "epsilon = (.1 * np.random.randn(N, 1))\n",
    "y = true_b + true_w * x + epsilon"
   ]
  },
  {
   "cell_type": "markdown",
   "id": "4ccde332-2854-40e2-90f3-1cf5d6b7d637",
   "metadata": {},
   "source": [
    "# Create Train & Validation Dataset"
   ]
  },
  {
   "cell_type": "code",
   "execution_count": 51,
   "id": "743d8bc7-22e3-4ee3-b397-9eedbb5b3a8d",
   "metadata": {},
   "outputs": [],
   "source": [
    "# Shuffles the indices\n",
    "idx = np.arange(N)\n",
    "np.random.shuffle(idx)\n",
    "# Uses first 80 random indices for train\n",
    "train_idx = idx[:int(N*.8)]\n",
    "# Uses the remaining indices for validation\n",
    "val_idx = idx[int(N*.8):]\n",
    "# Generates train and validation sets\n",
    "x_train, y_train = x[train_idx], y[train_idx]\n",
    "x_val, y_val = x[val_idx], y[val_idx]"
   ]
  },
  {
   "cell_type": "markdown",
   "id": "6e9fbb86-3f5d-42db-af91-3c62a178bbef",
   "metadata": {},
   "source": [
    "# linear regression model using gradient descent and Numpy only"
   ]
  },
  {
   "cell_type": "code",
   "execution_count": 52,
   "id": "50da61cf-7bf3-43e3-9620-a6f26e60eea9",
   "metadata": {},
   "outputs": [
    {
     "name": "stdout",
     "output_type": "stream",
     "text": [
      "before b,w:  [0.49671415] [-0.1382643]\n",
      "after b,w:  [1.02354094] [1.96896411]\n",
      "original b,w:  1 2\n"
     ]
    }
   ],
   "source": [
    "# Step 0 - Initializes parameters \"b\" and \"w\" randomly\n",
    "np.random.seed(42)\n",
    "b = np.random.randn(1)\n",
    "w = np.random.randn(1)\n",
    "\n",
    "print(\"before b,w: \",b, w)\n",
    "\n",
    "# Sets learning rate\n",
    "lr = 0.1\n",
    "# Defines number of epochs\n",
    "n_epochs = 1000\n",
    "\n",
    "for epoch in range(n_epochs):\n",
    "    # Step 1 - Computes model's predicted output - forward pass\n",
    "    yhat = b + w * x_train\n",
    "    \n",
    "    # Step 2 - Computes the loss\n",
    "    # We are using ALL data points, so this is BATCH gradient\n",
    "    # descent. How wrong is our model? That's the error!\n",
    "    error = (yhat - y_train)\n",
    "    # It is a regression, so it computes mean squared error (MSE)\n",
    "    loss = (error ** 2).mean()\n",
    "    \n",
    "    # Step 3 - Computes gradients for both \"b\" and \"w\" parameters\n",
    "    b_grad = 2 * error.mean()\n",
    "    w_grad = 2 * (x_train * error).mean()\n",
    "    \n",
    "    # Step 4 - Updates parameters using gradients and\n",
    "    # the learning rate\n",
    "    b = b - lr * b_grad\n",
    "    w = w - lr * w_grad\n",
    "\n",
    "print(\"after b,w: \",b, w)\n",
    "print(\"original b,w: \", true_b, true_w)"
   ]
  },
  {
   "cell_type": "code",
   "execution_count": null,
   "id": "aec793fa-4d73-4b89-b704-322cb7c29905",
   "metadata": {},
   "outputs": [],
   "source": []
  }
 ],
 "metadata": {
  "kernelspec": {
   "display_name": "Python 3 (ipykernel)",
   "language": "python",
   "name": "python3"
  },
  "language_info": {
   "codemirror_mode": {
    "name": "ipython",
    "version": 3
   },
   "file_extension": ".py",
   "mimetype": "text/x-python",
   "name": "python",
   "nbconvert_exporter": "python",
   "pygments_lexer": "ipython3",
   "version": "3.10.11"
  }
 },
 "nbformat": 4,
 "nbformat_minor": 5
}
