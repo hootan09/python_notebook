{
 "cells": [
  {
   "cell_type": "code",
   "execution_count": 2,
   "id": "781a025b-53f1-4b80-a403-6818f63218a9",
   "metadata": {},
   "outputs": [],
   "source": [
    "import numpy as np\n",
    "import torch\n",
    "import torch.optim as optim\n",
    "import torch.nn as nn\n",
    "from torch.utils.data import Dataset, TensorDataset, DataLoader\n",
    "from torch.utils.data.dataset import random_split\n",
    "from torch.utils.tensorboard import SummaryWriter\n",
    "import matplotlib.pyplot as plt\n",
    "%matplotlib inline\n",
    "plt.style.use('fivethirtyeight')"
   ]
  },
  {
   "cell_type": "markdown",
   "id": "f0a85401-59a1-48d9-9700-ee4bd3d5cf98",
   "metadata": {},
   "source": [
    "#### In this chapter, we will:\n",
    "- build a function to perform training steps\n",
    "- implement our own dataset class\n",
    "- use data loaders to generate mini-batches\n",
    "- build a function to perform mini-batch gradient descent\n",
    "- evaluate our model\n",
    "- integrate TensorBoard to monitor model training\n",
    "- save/checkpoint our model to disk\n",
    "- load our model from disk to resume training or to deploy"
   ]
  },
  {
   "cell_type": "markdown",
   "id": "e1851d10-03d1-4d28-9e84-3d46ca50c9a7",
   "metadata": {},
   "source": [
    "### We finished the previous chapter with an important question:\n",
    "\n",
    "**Would the code inside the training loop change if we were using a\n",
    "different optimizer, or loss, or even model?**\n",
    "\n",
    "The answer: **NO.**\n",
    "\n",
    "----\n"
   ]
  },
  {
   "cell_type": "markdown",
   "id": "bd815eeb-da35-482c-b4ff-3d0d2656b565",
   "metadata": {},
   "source": [
    "**A function that returns another function?**\n",
    "\n",
    "Sounds complicated, right? \n",
    "\n",
    "It is not as bad as it sounds, though… that’s called a\n",
    "**higher-order function**, and it is very useful for reducing boilerplate."
   ]
  },
  {
   "cell_type": "code",
   "execution_count": 3,
   "id": "12b613c3-1c88-440b-a056-6c27e3a2e4fa",
   "metadata": {},
   "outputs": [],
   "source": [
    "def exponentiation_builder(exponent):\n",
    "    def skeleton_exponentiation(x):\n",
    "        return x ** exponent\n",
    "    return skeleton_exponentiation"
   ]
  },
  {
   "cell_type": "code",
   "execution_count": 4,
   "id": "131dac84-8cf9-42ac-a162-d62994b3ea18",
   "metadata": {},
   "outputs": [
    {
     "data": {
      "text/plain": [
       "<function __main__.exponentiation_builder.<locals>.skeleton_exponentiation(x)>"
      ]
     },
     "execution_count": 4,
     "metadata": {},
     "output_type": "execute_result"
    }
   ],
   "source": [
    "returned_function = exponentiation_builder(2)\n",
    "returned_function"
   ]
  },
  {
   "cell_type": "code",
   "execution_count": 5,
   "id": "a053d481-66b9-4643-8dbe-d211be88f533",
   "metadata": {},
   "outputs": [
    {
     "data": {
      "text/plain": [
       "25"
      ]
     },
     "execution_count": 5,
     "metadata": {},
     "output_type": "execute_result"
    }
   ],
   "source": [
    "returned_function(5)"
   ]
  },
  {
   "cell_type": "code",
   "execution_count": null,
   "id": "0300ac07-bae6-460a-938d-9fa01693cc5e",
   "metadata": {},
   "outputs": [],
   "source": []
  }
 ],
 "metadata": {
  "kernelspec": {
   "display_name": "Python 3 (ipykernel)",
   "language": "python",
   "name": "python3"
  },
  "language_info": {
   "codemirror_mode": {
    "name": "ipython",
    "version": 3
   },
   "file_extension": ".py",
   "mimetype": "text/x-python",
   "name": "python",
   "nbconvert_exporter": "python",
   "pygments_lexer": "ipython3",
   "version": "3.10.11"
  }
 },
 "nbformat": 4,
 "nbformat_minor": 5
}
