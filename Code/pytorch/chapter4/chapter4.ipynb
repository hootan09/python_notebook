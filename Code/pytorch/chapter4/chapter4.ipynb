{
 "cells": [
  {
   "cell_type": "markdown",
   "id": "67105477-8658-448c-8223-95d04d4eb199",
   "metadata": {},
   "source": [
    "#### **Counting Weights**"
   ]
  },
  {
   "cell_type": "code",
   "execution_count": 2,
   "id": "023661da-0bf3-4ecd-bcc9-df9ed45dbe21",
   "metadata": {},
   "outputs": [],
   "source": [
    "def count_parameters(self):\n",
    "    return sum(p.numel()\n",
    "    for p in self.model.parameters()\n",
    "    if p.requires_grad)\n",
    "\n",
    "setattr(StepByStep, 'count_parameters', count_parameters)"
   ]
  },
  {
   "cell_type": "code",
   "execution_count": null,
   "id": "32ccddee-12ad-4cee-a2e2-5b8537b2ff1a",
   "metadata": {},
   "outputs": [],
   "source": []
  }
 ],
 "metadata": {
  "kernelspec": {
   "display_name": "Python 3 (ipykernel)",
   "language": "python",
   "name": "python3"
  },
  "language_info": {
   "codemirror_mode": {
    "name": "ipython",
    "version": 3
   },
   "file_extension": ".py",
   "mimetype": "text/x-python",
   "name": "python",
   "nbconvert_exporter": "python",
   "pygments_lexer": "ipython3",
   "version": "3.10.11"
  }
 },
 "nbformat": 4,
 "nbformat_minor": 5
}
